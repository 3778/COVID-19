{
  "nbformat": 4,
  "nbformat_minor": 0,
  "metadata": {
    "colab": {
      "name": "[issue_62]_Covid_Auto_Arima.ipynb",
      "provenance": [],
      "collapsed_sections": [],
      "include_colab_link": true
    },
    "kernelspec": {
      "name": "python3",
      "display_name": "Python 3"
    }
  },
  "cells": [
    {
      "cell_type": "markdown",
      "metadata": {
        "id": "view-in-github",
        "colab_type": "text"
      },
      "source": [
        "<a href=\"https://colab.research.google.com/github/3778/COVID-19/blob/master/notebooks/%5Bissue_62%5D_Covid_Auto_Arima.ipynb\" target=\"_parent\"><img src=\"https://colab.research.google.com/assets/colab-badge.svg\" alt=\"Open In Colab\"/></a>"
      ]
    },
    {
      "cell_type": "code",
      "metadata": {
        "id": "BeGF1rPpMOVx",
        "colab_type": "code",
        "outputId": "0652cee4-384b-41f1-f87d-c0550430e23a",
        "colab": {
          "base_uri": "https://localhost:8080/",
          "height": 136
        }
      },
      "source": [
        "!git clone https://github.com/3778/COVID-19.git"
      ],
      "execution_count": 1,
      "outputs": [
        {
          "output_type": "stream",
          "text": [
            "Cloning into 'COVID-19'...\n",
            "remote: Enumerating objects: 158, done.\u001b[K\n",
            "remote: Counting objects: 100% (158/158), done.\u001b[K\n",
            "remote: Compressing objects: 100% (107/107), done.\u001b[K\n",
            "remote: Total 669 (delta 79), reused 102 (delta 42), pack-reused 511\u001b[K\n",
            "Receiving objects: 100% (669/669), 1.14 MiB | 4.21 MiB/s, done.\n",
            "Resolving deltas: 100% (324/324), done.\n"
          ],
          "name": "stdout"
        }
      ]
    },
    {
      "cell_type": "code",
      "metadata": {
        "id": "vHFgDmU_eKfF",
        "colab_type": "code",
        "outputId": "f8cdd43a-288f-4307-c48b-23b237104030",
        "colab": {
          "base_uri": "https://localhost:8080/",
          "height": 326
        }
      },
      "source": [
        "!pip install pmdarima"
      ],
      "execution_count": 2,
      "outputs": [
        {
          "output_type": "stream",
          "text": [
            "Collecting pmdarima\n",
            "\u001b[?25l  Downloading https://files.pythonhosted.org/packages/83/aa/feb76414043592c3149059ab772a51de03fbf7544a8e19237f229a50a949/pmdarima-1.5.3-cp36-cp36m-manylinux1_x86_64.whl (1.5MB)\n",
            "\r\u001b[K     |▎                               | 10kB 18.4MB/s eta 0:00:01\r\u001b[K     |▌                               | 20kB 3.0MB/s eta 0:00:01\r\u001b[K     |▊                               | 30kB 3.9MB/s eta 0:00:01\r\u001b[K     |█                               | 40kB 2.9MB/s eta 0:00:01\r\u001b[K     |█▏                              | 51kB 3.1MB/s eta 0:00:01\r\u001b[K     |█▍                              | 61kB 3.6MB/s eta 0:00:01\r\u001b[K     |█▋                              | 71kB 3.9MB/s eta 0:00:01\r\u001b[K     |█▉                              | 81kB 4.2MB/s eta 0:00:01\r\u001b[K     |██                              | 92kB 4.7MB/s eta 0:00:01\r\u001b[K     |██▎                             | 102kB 4.6MB/s eta 0:00:01\r\u001b[K     |██▌                             | 112kB 4.6MB/s eta 0:00:01\r\u001b[K     |██▊                             | 122kB 4.6MB/s eta 0:00:01\r\u001b[K     |███                             | 133kB 4.6MB/s eta 0:00:01\r\u001b[K     |███▏                            | 143kB 4.6MB/s eta 0:00:01\r\u001b[K     |███▍                            | 153kB 4.6MB/s eta 0:00:01\r\u001b[K     |███▋                            | 163kB 4.6MB/s eta 0:00:01\r\u001b[K     |███▉                            | 174kB 4.6MB/s eta 0:00:01\r\u001b[K     |████                            | 184kB 4.6MB/s eta 0:00:01\r\u001b[K     |████▎                           | 194kB 4.6MB/s eta 0:00:01\r\u001b[K     |████▌                           | 204kB 4.6MB/s eta 0:00:01\r\u001b[K     |████▊                           | 215kB 4.6MB/s eta 0:00:01\r\u001b[K     |█████                           | 225kB 4.6MB/s eta 0:00:01\r\u001b[K     |█████▏                          | 235kB 4.6MB/s eta 0:00:01\r\u001b[K     |█████▍                          | 245kB 4.6MB/s eta 0:00:01\r\u001b[K     |█████▋                          | 256kB 4.6MB/s eta 0:00:01\r\u001b[K     |█████▉                          | 266kB 4.6MB/s eta 0:00:01\r\u001b[K     |██████                          | 276kB 4.6MB/s eta 0:00:01\r\u001b[K     |██████▎                         | 286kB 4.6MB/s eta 0:00:01\r\u001b[K     |██████▌                         | 296kB 4.6MB/s eta 0:00:01\r\u001b[K     |██████▊                         | 307kB 4.6MB/s eta 0:00:01\r\u001b[K     |███████                         | 317kB 4.6MB/s eta 0:00:01\r\u001b[K     |███████▏                        | 327kB 4.6MB/s eta 0:00:01\r\u001b[K     |███████▍                        | 337kB 4.6MB/s eta 0:00:01\r\u001b[K     |███████▋                        | 348kB 4.6MB/s eta 0:00:01\r\u001b[K     |███████▉                        | 358kB 4.6MB/s eta 0:00:01\r\u001b[K     |████████                        | 368kB 4.6MB/s eta 0:00:01\r\u001b[K     |████████▍                       | 378kB 4.6MB/s eta 0:00:01\r\u001b[K     |████████▋                       | 389kB 4.6MB/s eta 0:00:01\r\u001b[K     |████████▉                       | 399kB 4.6MB/s eta 0:00:01\r\u001b[K     |█████████                       | 409kB 4.6MB/s eta 0:00:01\r\u001b[K     |█████████▎                      | 419kB 4.6MB/s eta 0:00:01\r\u001b[K     |█████████▌                      | 430kB 4.6MB/s eta 0:00:01\r\u001b[K     |█████████▊                      | 440kB 4.6MB/s eta 0:00:01\r\u001b[K     |██████████                      | 450kB 4.6MB/s eta 0:00:01\r\u001b[K     |██████████▏                     | 460kB 4.6MB/s eta 0:00:01\r\u001b[K     |██████████▍                     | 471kB 4.6MB/s eta 0:00:01\r\u001b[K     |██████████▋                     | 481kB 4.6MB/s eta 0:00:01\r\u001b[K     |██████████▉                     | 491kB 4.6MB/s eta 0:00:01\r\u001b[K     |███████████                     | 501kB 4.6MB/s eta 0:00:01\r\u001b[K     |███████████▎                    | 512kB 4.6MB/s eta 0:00:01\r\u001b[K     |███████████▌                    | 522kB 4.6MB/s eta 0:00:01\r\u001b[K     |███████████▊                    | 532kB 4.6MB/s eta 0:00:01\r\u001b[K     |████████████                    | 542kB 4.6MB/s eta 0:00:01\r\u001b[K     |████████████▏                   | 552kB 4.6MB/s eta 0:00:01\r\u001b[K     |████████████▍                   | 563kB 4.6MB/s eta 0:00:01\r\u001b[K     |████████████▋                   | 573kB 4.6MB/s eta 0:00:01\r\u001b[K     |████████████▉                   | 583kB 4.6MB/s eta 0:00:01\r\u001b[K     |█████████████                   | 593kB 4.6MB/s eta 0:00:01\r\u001b[K     |█████████████▎                  | 604kB 4.6MB/s eta 0:00:01\r\u001b[K     |█████████████▌                  | 614kB 4.6MB/s eta 0:00:01\r\u001b[K     |█████████████▊                  | 624kB 4.6MB/s eta 0:00:01\r\u001b[K     |██████████████                  | 634kB 4.6MB/s eta 0:00:01\r\u001b[K     |██████████████▏                 | 645kB 4.6MB/s eta 0:00:01\r\u001b[K     |██████████████▍                 | 655kB 4.6MB/s eta 0:00:01\r\u001b[K     |██████████████▋                 | 665kB 4.6MB/s eta 0:00:01\r\u001b[K     |██████████████▉                 | 675kB 4.6MB/s eta 0:00:01\r\u001b[K     |███████████████                 | 686kB 4.6MB/s eta 0:00:01\r\u001b[K     |███████████████▎                | 696kB 4.6MB/s eta 0:00:01\r\u001b[K     |███████████████▌                | 706kB 4.6MB/s eta 0:00:01\r\u001b[K     |███████████████▊                | 716kB 4.6MB/s eta 0:00:01\r\u001b[K     |████████████████                | 727kB 4.6MB/s eta 0:00:01\r\u001b[K     |████████████████▏               | 737kB 4.6MB/s eta 0:00:01\r\u001b[K     |████████████████▍               | 747kB 4.6MB/s eta 0:00:01\r\u001b[K     |████████████████▊               | 757kB 4.6MB/s eta 0:00:01\r\u001b[K     |█████████████████               | 768kB 4.6MB/s eta 0:00:01\r\u001b[K     |█████████████████▏              | 778kB 4.6MB/s eta 0:00:01\r\u001b[K     |█████████████████▍              | 788kB 4.6MB/s eta 0:00:01\r\u001b[K     |█████████████████▋              | 798kB 4.6MB/s eta 0:00:01\r\u001b[K     |█████████████████▉              | 808kB 4.6MB/s eta 0:00:01\r\u001b[K     |██████████████████              | 819kB 4.6MB/s eta 0:00:01\r\u001b[K     |██████████████████▎             | 829kB 4.6MB/s eta 0:00:01\r\u001b[K     |██████████████████▌             | 839kB 4.6MB/s eta 0:00:01\r\u001b[K     |██████████████████▊             | 849kB 4.6MB/s eta 0:00:01\r\u001b[K     |███████████████████             | 860kB 4.6MB/s eta 0:00:01\r\u001b[K     |███████████████████▏            | 870kB 4.6MB/s eta 0:00:01\r\u001b[K     |███████████████████▍            | 880kB 4.6MB/s eta 0:00:01\r\u001b[K     |███████████████████▋            | 890kB 4.6MB/s eta 0:00:01\r\u001b[K     |███████████████████▉            | 901kB 4.6MB/s eta 0:00:01\r\u001b[K     |████████████████████            | 911kB 4.6MB/s eta 0:00:01\r\u001b[K     |████████████████████▎           | 921kB 4.6MB/s eta 0:00:01\r\u001b[K     |████████████████████▌           | 931kB 4.6MB/s eta 0:00:01\r\u001b[K     |████████████████████▊           | 942kB 4.6MB/s eta 0:00:01\r\u001b[K     |█████████████████████           | 952kB 4.6MB/s eta 0:00:01\r\u001b[K     |█████████████████████▏          | 962kB 4.6MB/s eta 0:00:01\r\u001b[K     |█████████████████████▍          | 972kB 4.6MB/s eta 0:00:01\r\u001b[K     |█████████████████████▋          | 983kB 4.6MB/s eta 0:00:01\r\u001b[K     |█████████████████████▉          | 993kB 4.6MB/s eta 0:00:01\r\u001b[K     |██████████████████████          | 1.0MB 4.6MB/s eta 0:00:01\r\u001b[K     |██████████████████████▎         | 1.0MB 4.6MB/s eta 0:00:01\r\u001b[K     |██████████████████████▌         | 1.0MB 4.6MB/s eta 0:00:01\r\u001b[K     |██████████████████████▊         | 1.0MB 4.6MB/s eta 0:00:01\r\u001b[K     |███████████████████████         | 1.0MB 4.6MB/s eta 0:00:01\r\u001b[K     |███████████████████████▏        | 1.1MB 4.6MB/s eta 0:00:01\r\u001b[K     |███████████████████████▍        | 1.1MB 4.6MB/s eta 0:00:01\r\u001b[K     |███████████████████████▋        | 1.1MB 4.6MB/s eta 0:00:01\r\u001b[K     |███████████████████████▉        | 1.1MB 4.6MB/s eta 0:00:01\r\u001b[K     |████████████████████████        | 1.1MB 4.6MB/s eta 0:00:01\r\u001b[K     |████████████████████████▎       | 1.1MB 4.6MB/s eta 0:00:01\r\u001b[K     |████████████████████████▌       | 1.1MB 4.6MB/s eta 0:00:01\r\u001b[K     |████████████████████████▉       | 1.1MB 4.6MB/s eta 0:00:01\r\u001b[K     |█████████████████████████       | 1.1MB 4.6MB/s eta 0:00:01\r\u001b[K     |█████████████████████████▎      | 1.1MB 4.6MB/s eta 0:00:01\r\u001b[K     |█████████████████████████▌      | 1.2MB 4.6MB/s eta 0:00:01\r\u001b[K     |█████████████████████████▊      | 1.2MB 4.6MB/s eta 0:00:01\r\u001b[K     |██████████████████████████      | 1.2MB 4.6MB/s eta 0:00:01\r\u001b[K     |██████████████████████████▏     | 1.2MB 4.6MB/s eta 0:00:01\r\u001b[K     |██████████████████████████▍     | 1.2MB 4.6MB/s eta 0:00:01\r\u001b[K     |██████████████████████████▋     | 1.2MB 4.6MB/s eta 0:00:01\r\u001b[K     |██████████████████████████▉     | 1.2MB 4.6MB/s eta 0:00:01\r\u001b[K     |███████████████████████████     | 1.2MB 4.6MB/s eta 0:00:01\r\u001b[K     |███████████████████████████▎    | 1.2MB 4.6MB/s eta 0:00:01\r\u001b[K     |███████████████████████████▌    | 1.2MB 4.6MB/s eta 0:00:01\r\u001b[K     |███████████████████████████▊    | 1.3MB 4.6MB/s eta 0:00:01\r\u001b[K     |████████████████████████████    | 1.3MB 4.6MB/s eta 0:00:01\r\u001b[K     |████████████████████████████▏   | 1.3MB 4.6MB/s eta 0:00:01\r\u001b[K     |████████████████████████████▍   | 1.3MB 4.6MB/s eta 0:00:01\r\u001b[K     |████████████████████████████▋   | 1.3MB 4.6MB/s eta 0:00:01\r\u001b[K     |████████████████████████████▉   | 1.3MB 4.6MB/s eta 0:00:01\r\u001b[K     |█████████████████████████████   | 1.3MB 4.6MB/s eta 0:00:01\r\u001b[K     |█████████████████████████████▎  | 1.3MB 4.6MB/s eta 0:00:01\r\u001b[K     |█████████████████████████████▌  | 1.3MB 4.6MB/s eta 0:00:01\r\u001b[K     |█████████████████████████████▊  | 1.4MB 4.6MB/s eta 0:00:01\r\u001b[K     |██████████████████████████████  | 1.4MB 4.6MB/s eta 0:00:01\r\u001b[K     |██████████████████████████████▏ | 1.4MB 4.6MB/s eta 0:00:01\r\u001b[K     |██████████████████████████████▍ | 1.4MB 4.6MB/s eta 0:00:01\r\u001b[K     |██████████████████████████████▋ | 1.4MB 4.6MB/s eta 0:00:01\r\u001b[K     |██████████████████████████████▉ | 1.4MB 4.6MB/s eta 0:00:01\r\u001b[K     |███████████████████████████████ | 1.4MB 4.6MB/s eta 0:00:01\r\u001b[K     |███████████████████████████████▎| 1.4MB 4.6MB/s eta 0:00:01\r\u001b[K     |███████████████████████████████▌| 1.4MB 4.6MB/s eta 0:00:01\r\u001b[K     |███████████████████████████████▊| 1.4MB 4.6MB/s eta 0:00:01\r\u001b[K     |████████████████████████████████| 1.5MB 4.6MB/s eta 0:00:01\r\u001b[K     |████████████████████████████████| 1.5MB 4.6MB/s \n",
            "\u001b[?25hRequirement already satisfied: scipy>=1.3.2 in /usr/local/lib/python3.6/dist-packages (from pmdarima) (1.4.1)\n",
            "Requirement already satisfied: numpy>=1.17.3 in /usr/local/lib/python3.6/dist-packages (from pmdarima) (1.18.2)\n",
            "Requirement already satisfied: urllib3 in /usr/local/lib/python3.6/dist-packages (from pmdarima) (1.24.3)\n",
            "Requirement already satisfied: joblib>=0.11 in /usr/local/lib/python3.6/dist-packages (from pmdarima) (0.14.1)\n",
            "Requirement already satisfied: scikit-learn>=0.22 in /usr/local/lib/python3.6/dist-packages (from pmdarima) (0.22.2.post1)\n",
            "Requirement already satisfied: statsmodels>=0.10.2 in /usr/local/lib/python3.6/dist-packages (from pmdarima) (0.10.2)\n",
            "Requirement already satisfied: Cython>=0.29 in /usr/local/lib/python3.6/dist-packages (from pmdarima) (0.29.15)\n",
            "Requirement already satisfied: pandas>=0.19 in /usr/local/lib/python3.6/dist-packages (from pmdarima) (0.25.3)\n",
            "Requirement already satisfied: patsy>=0.4.0 in /usr/local/lib/python3.6/dist-packages (from statsmodels>=0.10.2->pmdarima) (0.5.1)\n",
            "Requirement already satisfied: python-dateutil>=2.6.1 in /usr/local/lib/python3.6/dist-packages (from pandas>=0.19->pmdarima) (2.8.1)\n",
            "Requirement already satisfied: pytz>=2017.2 in /usr/local/lib/python3.6/dist-packages (from pandas>=0.19->pmdarima) (2018.9)\n",
            "Requirement already satisfied: six in /usr/local/lib/python3.6/dist-packages (from patsy>=0.4.0->statsmodels>=0.10.2->pmdarima) (1.12.0)\n",
            "Installing collected packages: pmdarima\n",
            "Successfully installed pmdarima-1.5.3\n"
          ],
          "name": "stdout"
        }
      ]
    },
    {
      "cell_type": "code",
      "metadata": {
        "id": "C2GLZRTJTEbL",
        "colab_type": "code",
        "colab": {}
      },
      "source": [
        "import os\n",
        "os.chdir('COVID-19')"
      ],
      "execution_count": 0,
      "outputs": []
    },
    {
      "cell_type": "code",
      "metadata": {
        "id": "BUSjC1lUd7eb",
        "colab_type": "code",
        "colab": {}
      },
      "source": [
        "import pandas as pd\n",
        "from pmdarima import auto_arima"
      ],
      "execution_count": 0,
      "outputs": []
    },
    {
      "cell_type": "code",
      "metadata": {
        "id": "vwvNQ4q-MZMZ",
        "colab_type": "code",
        "colab": {}
      },
      "source": [
        "from data.collectors import load_dump_covid_19_data, load_jh_data"
      ],
      "execution_count": 0,
      "outputs": []
    },
    {
      "cell_type": "code",
      "metadata": {
        "id": "U2dfJ1FUWEMw",
        "colab_type": "code",
        "outputId": "895487ff-27ec-43d5-f94b-8d0042ca9031",
        "colab": {
          "base_uri": "https://localhost:8080/",
          "height": 51
        }
      },
      "source": [
        "load_dump_covid_19_data()\n",
        "jhu = load_jh_data()"
      ],
      "execution_count": 6,
      "outputs": [
        {
          "output_type": "stream",
          "text": [
            "by_uf data exported to data/csv/covid_19/by_uf/by_uf.csv\n",
            "by_city data exported to data/csv/covid_19/by_city/by_city.csv\n"
          ],
          "name": "stdout"
        }
      ]
    },
    {
      "cell_type": "markdown",
      "metadata": {
        "id": "X9cUNJNWeaxu",
        "colab_type": "text"
      },
      "source": [
        "# Simular como teria sido acompanhar o histórico que já temos fazendo previsões para os próximos `forecast_n_days`\n",
        "(ex: Simulação do que teria acontecido se eu tivesse tentado prever de 7 em 7 dias os próximos 7 dias)\n"
      ]
    },
    {
      "cell_type": "code",
      "metadata": {
        "id": "FAY4ejBSU7A4",
        "colab_type": "code",
        "colab": {}
      },
      "source": [
        "def simulate(data, forecast_n_days=7, n_history=None):\n",
        "    lag = pd.DateOffset(days=forecast_n_days)\n",
        "    one_day = pd.DateOffset(days=1)\n",
        "    dmin, dmax = data.index.min(), data.index.max()\n",
        "    date_range = (\n",
        "        pd\n",
        "        .date_range(\n",
        "            start=dmin+lag,\n",
        "            end=dmax-lag,\n",
        "            freq=f'{forecast_n_days}D'\n",
        "        )\n",
        "    )\n",
        "    look_back = pd.DateOffset(\n",
        "        days=(dmax-dmin).days if n_history is None else n_history\n",
        "    )\n",
        "    forecasts = []\n",
        "    for date in date_range:\n",
        "        train = data.loc[date-look_back:date]\n",
        "        test = data.loc[date+one_day:date+lag]\n",
        "        model = (\n",
        "            auto_arima(\n",
        "                train,\n",
        "                start_p=1,\n",
        "                d=None,\n",
        "                start_q=1,\n",
        "                max_p=15,\n",
        "                max_d=15,\n",
        "                max_q=15,\n",
        "                seasonal=False,\n",
        "                suppress_warnings=True,\n",
        "                maxiter=500,\n",
        "                stepwise=False\n",
        "            )\n",
        "        )\n",
        "        forecast = model.predict(test.shape[0])\n",
        "        forecasts.append(\n",
        "            pd.Series(forecast, index=test.index)\n",
        "        )\n",
        "    return (\n",
        "        pd\n",
        "        .concat(\n",
        "            [\n",
        "                data,\n",
        "                (\n",
        "                    pd\n",
        "                    .concat(forecasts)\n",
        "                    .rename('forecast')\n",
        "                )\n",
        "            ],\n",
        "            axis=1\n",
        "        )\n",
        "    )"
      ],
      "execution_count": 0,
      "outputs": []
    },
    {
      "cell_type": "markdown",
      "metadata": {
        "id": "S3acLa-neWvx",
        "colab_type": "text"
      },
      "source": [
        "# Brasil"
      ]
    },
    {
      "cell_type": "code",
      "metadata": {
        "id": "yc3xf1tyNmjy",
        "colab_type": "code",
        "colab": {}
      },
      "source": [
        "data = (\n",
        "    pd\n",
        "    .read_csv(\n",
        "        'data/csv/covid_19/by_uf/by_uf.csv'\n",
        "    )\n",
        "    .query('date >= \"2020-03-01\"')\n",
        "    .groupby('date')\n",
        "    ['cases']\n",
        "    .sum()\n",
        ")\n",
        "data.index = pd.to_datetime(data.index)"
      ],
      "execution_count": 0,
      "outputs": []
    },
    {
      "cell_type": "code",
      "metadata": {
        "id": "hccLkGL_Nmeu",
        "colab_type": "code",
        "outputId": "02878f25-51a0-4464-e4c6-5c0f6c4f9c4c",
        "colab": {
          "base_uri": "https://localhost:8080/",
          "height": 343
        }
      },
      "source": [
        "sim = simulate(data, forecast_n_days=3, n_history=None)"
      ],
      "execution_count": 9,
      "outputs": [
        {
          "output_type": "stream",
          "text": [
            "/usr/local/lib/python3.6/dist-packages/pmdarima/arima/_auto_solvers.py:386: ModelFitWarning: Unable to fit ARIMA for (1, 0, 2)x(0, 0, 0, 0); data is likely non-stationary. (if you do not want to see these warnings, run with error_action=\"ignore\")\n",
            "  ModelFitWarning)\n",
            "/usr/local/lib/python3.6/dist-packages/pmdarima/arima/_auto_solvers.py:386: ModelFitWarning: Unable to fit ARIMA for (2, 0, 2)x(0, 0, 0, 0); data is likely non-stationary. (if you do not want to see these warnings, run with error_action=\"ignore\")\n",
            "  ModelFitWarning)\n",
            "/usr/local/lib/python3.6/dist-packages/pmdarima/arima/_auto_solvers.py:386: ModelFitWarning: Unable to fit ARIMA for (1, 0, 3)x(0, 0, 0, 0); data is likely non-stationary. (if you do not want to see these warnings, run with error_action=\"ignore\")\n",
            "  ModelFitWarning)\n",
            "/usr/local/lib/python3.6/dist-packages/pmdarima/arima/_auto_solvers.py:386: ModelFitWarning: Unable to fit ARIMA for (2, 0, 3)x(0, 0, 0, 0); data is likely non-stationary. (if you do not want to see these warnings, run with error_action=\"ignore\")\n",
            "  ModelFitWarning)\n",
            "/usr/local/lib/python3.6/dist-packages/pmdarima/arima/_auto_solvers.py:386: ModelFitWarning: Unable to fit ARIMA for (0, 1, 4)x(0, 0, 0, 0); data is likely non-stationary. (if you do not want to see these warnings, run with error_action=\"ignore\")\n",
            "  ModelFitWarning)\n",
            "/usr/local/lib/python3.6/dist-packages/pmdarima/arima/_auto_solvers.py:386: ModelFitWarning: Unable to fit ARIMA for (1, 1, 3)x(0, 0, 0, 0); data is likely non-stationary. (if you do not want to see these warnings, run with error_action=\"ignore\")\n",
            "  ModelFitWarning)\n",
            "/usr/local/lib/python3.6/dist-packages/pmdarima/arima/_auto_solvers.py:386: ModelFitWarning: Unable to fit ARIMA for (1, 1, 4)x(0, 0, 0, 0); data is likely non-stationary. (if you do not want to see these warnings, run with error_action=\"ignore\")\n",
            "  ModelFitWarning)\n",
            "/usr/local/lib/python3.6/dist-packages/pmdarima/arima/_auto_solvers.py:386: ModelFitWarning: Unable to fit ARIMA for (2, 1, 3)x(0, 0, 0, 0); data is likely non-stationary. (if you do not want to see these warnings, run with error_action=\"ignore\")\n",
            "  ModelFitWarning)\n",
            "/usr/local/lib/python3.6/dist-packages/pmdarima/arima/_auto_solvers.py:386: ModelFitWarning: Unable to fit ARIMA for (3, 1, 2)x(0, 0, 0, 0); data is likely non-stationary. (if you do not want to see these warnings, run with error_action=\"ignore\")\n",
            "  ModelFitWarning)\n"
          ],
          "name": "stderr"
        }
      ]
    },
    {
      "cell_type": "code",
      "metadata": {
        "id": "cvO3QDFjeKml",
        "colab_type": "code",
        "outputId": "e8a2fff7-a091-4800-8637-bed60898eeb1",
        "colab": {
          "base_uri": "https://localhost:8080/",
          "height": 429
        }
      },
      "source": [
        "sim.plot.bar(figsize=(18, 5));"
      ],
      "execution_count": 10,
      "outputs": [
        {
          "output_type": "display_data",
          "data": {
            "image/png": "[encoded data removed]",
            "text/plain": [
              "<Figure size 1296x360 with 1 Axes>"
            ]
          },
          "metadata": {
            "tags": []
          }
        }
      ]
    },
    {
      "cell_type": "markdown",
      "metadata": {
        "id": "CxmJ-aLGeMnk",
        "colab_type": "text"
      },
      "source": [
        "# Mundo"
      ]
    },
    {
      "cell_type": "code",
      "metadata": {
        "id": "WaRZmfujeNlt",
        "colab_type": "code",
        "colab": {}
      },
      "source": [
        "ser = 'China'\n",
        "data = (\n",
        "    jhu\n",
        "    .set_index('country')\n",
        "    .loc[ser]\n",
        "    .reset_index(drop=True)\n",
        "    .set_index('date')\n",
        "    ['cases']\n",
        ")\n",
        "data.index = pd.to_datetime(data.index)"
      ],
      "execution_count": 0,
      "outputs": []
    },
    {
      "cell_type": "code",
      "metadata": {
        "id": "4m1W_f__eS-W",
        "colab_type": "code",
        "outputId": "fd703a15-0172-4ea2-f362-14365ae68a48",
        "colab": {
          "base_uri": "https://localhost:8080/",
          "height": 581
        }
      },
      "source": [
        "sim = simulate(data, forecast_n_days=3, n_history=None)"
      ],
      "execution_count": 12,
      "outputs": [
        {
          "output_type": "stream",
          "text": [
            "/usr/local/lib/python3.6/dist-packages/pmdarima/arima/_auto_solvers.py:386: ModelFitWarning: Unable to fit ARIMA for (1, 0, 2)x(0, 0, 0, 0); data is likely non-stationary. (if you do not want to see these warnings, run with error_action=\"ignore\")\n",
            "  ModelFitWarning)\n",
            "/usr/local/lib/python3.6/dist-packages/pmdarima/arima/_auto_solvers.py:386: ModelFitWarning: Unable to fit ARIMA for (2, 0, 1)x(0, 0, 0, 0); data is likely non-stationary. (if you do not want to see these warnings, run with error_action=\"ignore\")\n",
            "  ModelFitWarning)\n",
            "/usr/local/lib/python3.6/dist-packages/pmdarima/arima/_auto_solvers.py:386: ModelFitWarning: Unable to fit ARIMA for (2, 0, 2)x(0, 0, 0, 0); data is likely non-stationary. (if you do not want to see these warnings, run with error_action=\"ignore\")\n",
            "  ModelFitWarning)\n",
            "/usr/local/lib/python3.6/dist-packages/pmdarima/arima/_auto_solvers.py:386: ModelFitWarning: Unable to fit ARIMA for (1, 0, 3)x(0, 0, 0, 0); data is likely non-stationary. (if you do not want to see these warnings, run with error_action=\"ignore\")\n",
            "  ModelFitWarning)\n",
            "/usr/local/lib/python3.6/dist-packages/pmdarima/arima/_auto_solvers.py:386: ModelFitWarning: Unable to fit ARIMA for (2, 0, 3)x(0, 0, 0, 0); data is likely non-stationary. (if you do not want to see these warnings, run with error_action=\"ignore\")\n",
            "  ModelFitWarning)\n",
            "/usr/local/lib/python3.6/dist-packages/pmdarima/arima/_auto_solvers.py:386: ModelFitWarning: Unable to fit ARIMA for (0, 2, 4)x(0, 0, 0, 0); data is likely non-stationary. (if you do not want to see these warnings, run with error_action=\"ignore\")\n",
            "  ModelFitWarning)\n",
            "/usr/local/lib/python3.6/dist-packages/pmdarima/arima/_auto_solvers.py:386: ModelFitWarning: Unable to fit ARIMA for (1, 2, 3)x(0, 0, 0, 0); data is likely non-stationary. (if you do not want to see these warnings, run with error_action=\"ignore\")\n",
            "  ModelFitWarning)\n",
            "/usr/local/lib/python3.6/dist-packages/pmdarima/arima/_auto_solvers.py:386: ModelFitWarning: Unable to fit ARIMA for (1, 2, 4)x(0, 0, 0, 0); data is likely non-stationary. (if you do not want to see these warnings, run with error_action=\"ignore\")\n",
            "  ModelFitWarning)\n",
            "/usr/local/lib/python3.6/dist-packages/pmdarima/arima/_auto_solvers.py:386: ModelFitWarning: Unable to fit ARIMA for (2, 2, 2)x(0, 0, 0, 0); data is likely non-stationary. (if you do not want to see these warnings, run with error_action=\"ignore\")\n",
            "  ModelFitWarning)\n",
            "/usr/local/lib/python3.6/dist-packages/pmdarima/arima/_auto_solvers.py:386: ModelFitWarning: Unable to fit ARIMA for (2, 2, 3)x(0, 0, 0, 0); data is likely non-stationary. (if you do not want to see these warnings, run with error_action=\"ignore\")\n",
            "  ModelFitWarning)\n",
            "/usr/local/lib/python3.6/dist-packages/pmdarima/arima/_auto_solvers.py:386: ModelFitWarning: Unable to fit ARIMA for (0, 2, 5)x(0, 0, 0, 0); data is likely non-stationary. (if you do not want to see these warnings, run with error_action=\"ignore\")\n",
            "  ModelFitWarning)\n",
            "/usr/local/lib/python3.6/dist-packages/pmdarima/arima/_auto_solvers.py:386: ModelFitWarning: Unable to fit ARIMA for (1, 2, 3)x(0, 0, 0, 0); data is likely non-stationary. (if you do not want to see these warnings, run with error_action=\"ignore\")\n",
            "  ModelFitWarning)\n",
            "/usr/local/lib/python3.6/dist-packages/pmdarima/arima/_auto_solvers.py:386: ModelFitWarning: Unable to fit ARIMA for (1, 2, 4)x(0, 0, 0, 0); data is likely non-stationary. (if you do not want to see these warnings, run with error_action=\"ignore\")\n",
            "  ModelFitWarning)\n",
            "/usr/local/lib/python3.6/dist-packages/pmdarima/arima/_auto_solvers.py:386: ModelFitWarning: Unable to fit ARIMA for (1, 2, 4)x(0, 0, 0, 0); data is likely non-stationary. (if you do not want to see these warnings, run with error_action=\"ignore\")\n",
            "  ModelFitWarning)\n",
            "/usr/local/lib/python3.6/dist-packages/pmdarima/arima/_auto_solvers.py:386: ModelFitWarning: Unable to fit ARIMA for (0, 1, 5)x(0, 0, 0, 0); data is likely non-stationary. (if you do not want to see these warnings, run with error_action=\"ignore\")\n",
            "  ModelFitWarning)\n",
            "/usr/local/lib/python3.6/dist-packages/pmdarima/arima/_auto_solvers.py:386: ModelFitWarning: Unable to fit ARIMA for (1, 2, 4)x(0, 0, 0, 0); data is likely non-stationary. (if you do not want to see these warnings, run with error_action=\"ignore\")\n",
            "  ModelFitWarning)\n"
          ],
          "name": "stderr"
        }
      ]
    },
    {
      "cell_type": "code",
      "metadata": {
        "id": "0cbVppEIZor_",
        "colab_type": "code",
        "outputId": "b48f836d-578b-4607-8721-dabadb2668fe",
        "colab": {
          "base_uri": "https://localhost:8080/",
          "height": 429
        }
      },
      "source": [
        "sim.plot.bar(figsize=(18, 5));"
      ],
      "execution_count": 13,
      "outputs": [
        {
          "output_type": "display_data",
          "data": {
            "image/png": "[encoded data removed]",
            "text/plain": [
              "<Figure size 1296x360 with 1 Axes>"
            ]
          },
          "metadata": {
            "tags": []
          }
        }
      ]
    }
  ]
}