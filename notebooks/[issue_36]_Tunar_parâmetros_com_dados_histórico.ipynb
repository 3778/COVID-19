{
  "nbformat": 4,
  "nbformat_minor": 0,
  "metadata": {
    "colab": {
      "name": "[issue 36] Tunar parâmetros com dados histórico.ipynb",
      "provenance": [],
      "collapsed_sections": [],
      "toc_visible": true,
      "authorship_tag": "ABX9TyPFfQneddLzupW62DdfEyeW",
      "include_colab_link": true
    },
    "kernelspec": {
      "name": "python3",
      "display_name": "Python 3"
    }
  },
  "cells": [
    {
      "cell_type": "markdown",
      "metadata": {
        "id": "view-in-github",
        "colab_type": "text"
      },
      "source": [
        "<a href=\"https://colab.research.google.com/github/3778/COVID-19/blob/master/notebooks/%5Bissue_36%5D_Tunar_par%C3%A2metros_com_dados_hist%C3%B3rico.ipynb\" target=\"_parent\"><img src=\"https://colab.research.google.com/assets/colab-badge.svg\" alt=\"Open In Colab\"/></a>"
      ]
    },
    {
      "cell_type": "markdown",
      "metadata": {
        "id": "oxkEUXjYDy4j",
        "colab_type": "text"
      },
      "source": [
        "Referencias:\n",
        "- https://kingaa.github.io/short-course/parest/parest.html"
      ]
    },
    {
      "cell_type": "code",
      "metadata": {
        "id": "cYTUFegf8PwH",
        "colab_type": "code",
        "colab": {}
      },
      "source": [
        "import sys\n",
        "import pandas as pd\n",
        "import matplotlib.pyplot as plt\n",
        "import statsmodels.api as sm\n",
        "import numpy as np\n",
        "\n",
        "plt.style.use('ggplot')"
      ],
      "execution_count": 0,
      "outputs": []
    },
    {
      "cell_type": "code",
      "metadata": {
        "id": "nlD6B7gg-A6v",
        "colab_type": "code",
        "colab": {
          "base_uri": "https://localhost:8080/",
          "height": 201
        },
        "outputId": "d6af6629-a891-4bdc-c2d3-0d867bf2a56e"
      },
      "source": [
        "# Check if we are in colab before cloning git repo.\n",
        "IN_COLAB = 'google.colab' in sys.modules\n",
        "CURRENT_DIR = !pwd\n",
        "\n",
        "if IN_COLAB and not CURRENT_DIR[0].endswith('COVID-19/notebooks'):\n",
        "    !git clone -l -s git://github.com/3778/COVID-19.git\n",
        "    %cd COVID-19/notebooks\n",
        "    !ls\n",
        "else:\n",
        "    print(f'Did not clone, already in directory {CURRENT_DIR[0]}')"
      ],
      "execution_count": 2,
      "outputs": [
        {
          "output_type": "stream",
          "text": [
            "Cloning into 'COVID-19'...\n",
            "warning: --local is ignored\n",
            "remote: Enumerating objects: 188, done.\u001b[K\n",
            "remote: Counting objects: 100% (188/188), done.\u001b[K\n",
            "remote: Compressing objects: 100% (145/145), done.\u001b[K\n",
            "remote: Total 425 (delta 61), reused 143 (delta 36), pack-reused 237\u001b[K\n",
            "Receiving objects: 100% (425/425), 635.52 KiB | 11.55 MiB/s, done.\n",
            "Resolving deltas: 100% (190/190), done.\n",
            "/content/COVID-19/notebooks\n",
            "'[issue_36]_Tunar_parâmetros_com_dados_histórico.ipynb'\n"
          ],
          "name": "stdout"
        }
      ]
    },
    {
      "cell_type": "markdown",
      "metadata": {
        "id": "d7XcN3Me_OHu",
        "colab_type": "text"
      },
      "source": [
        "# Carregar e limpar dados de São Paulo"
      ]
    },
    {
      "cell_type": "code",
      "metadata": {
        "id": "-wNe_5nw-ek3",
        "colab_type": "code",
        "outputId": "320d91d9-b0e1-4c23-f01e-fd36c0726bb5",
        "colab": {
          "base_uri": "https://localhost:8080/",
          "height": 202
        }
      },
      "source": [
        "saopaulo = pd.read_csv('../data/csv/by_uf/SP.csv', parse_dates=['date'])\n",
        "(saopaulo\n",
        " .tail()\n",
        " .rename(columns=lambda c: f'{c} ({saopaulo.dtypes[c]})'))"
      ],
      "execution_count": 3,
      "outputs": [
        {
          "output_type": "execute_result",
          "data": {
            "text/html": [
              "<div>\n",
              "<style scoped>\n",
              "    .dataframe tbody tr th:only-of-type {\n",
              "        vertical-align: middle;\n",
              "    }\n",
              "\n",
              "    .dataframe tbody tr th {\n",
              "        vertical-align: top;\n",
              "    }\n",
              "\n",
              "    .dataframe thead th {\n",
              "        text-align: right;\n",
              "    }\n",
              "</style>\n",
              "<table border=\"1\" class=\"dataframe\">\n",
              "  <thead>\n",
              "    <tr style=\"text-align: right;\">\n",
              "      <th></th>\n",
              "      <th>date (datetime64[ns])</th>\n",
              "      <th>suspects (int64)</th>\n",
              "      <th>refuses (int64)</th>\n",
              "      <th>cases (int64)</th>\n",
              "      <th>deaths (int64)</th>\n",
              "    </tr>\n",
              "  </thead>\n",
              "  <tbody>\n",
              "    <tr>\n",
              "      <th>45</th>\n",
              "      <td>2020-03-14</td>\n",
              "      <td>752</td>\n",
              "      <td>545</td>\n",
              "      <td>65</td>\n",
              "      <td>0</td>\n",
              "    </tr>\n",
              "    <tr>\n",
              "      <th>46</th>\n",
              "      <td>2020-03-15</td>\n",
              "      <td>1125</td>\n",
              "      <td>551</td>\n",
              "      <td>136</td>\n",
              "      <td>0</td>\n",
              "    </tr>\n",
              "    <tr>\n",
              "      <th>47</th>\n",
              "      <td>2020-03-16</td>\n",
              "      <td>1177</td>\n",
              "      <td>623</td>\n",
              "      <td>152</td>\n",
              "      <td>0</td>\n",
              "    </tr>\n",
              "    <tr>\n",
              "      <th>48</th>\n",
              "      <td>2020-03-17</td>\n",
              "      <td>5047</td>\n",
              "      <td>709</td>\n",
              "      <td>164</td>\n",
              "      <td>1</td>\n",
              "    </tr>\n",
              "    <tr>\n",
              "      <th>49</th>\n",
              "      <td>2020-03-18</td>\n",
              "      <td>5334</td>\n",
              "      <td>596</td>\n",
              "      <td>240</td>\n",
              "      <td>4</td>\n",
              "    </tr>\n",
              "  </tbody>\n",
              "</table>\n",
              "</div>"
            ],
            "text/plain": [
              "   date (datetime64[ns])  suspects (int64)  ...  cases (int64)  deaths (int64)\n",
              "45            2020-03-14               752  ...             65               0\n",
              "46            2020-03-15              1125  ...            136               0\n",
              "47            2020-03-16              1177  ...            152               0\n",
              "48            2020-03-17              5047  ...            164               1\n",
              "49            2020-03-18              5334  ...            240               4\n",
              "\n",
              "[5 rows x 5 columns]"
            ]
          },
          "metadata": {
            "tags": []
          },
          "execution_count": 3
        }
      ]
    },
    {
      "cell_type": "code",
      "metadata": {
        "id": "Fl9oGWqiAM8r",
        "colab_type": "code",
        "colab": {
          "base_uri": "https://localhost:8080/",
          "height": 171
        },
        "outputId": "a5c99cfb-aace-4b8b-ad43-4d0713f9ea55"
      },
      "source": [
        "saopaulo[saopaulo.duplicated('date', keep=False)]"
      ],
      "execution_count": 4,
      "outputs": [
        {
          "output_type": "execute_result",
          "data": {
            "text/html": [
              "<div>\n",
              "<style scoped>\n",
              "    .dataframe tbody tr th:only-of-type {\n",
              "        vertical-align: middle;\n",
              "    }\n",
              "\n",
              "    .dataframe tbody tr th {\n",
              "        vertical-align: top;\n",
              "    }\n",
              "\n",
              "    .dataframe thead th {\n",
              "        text-align: right;\n",
              "    }\n",
              "</style>\n",
              "<table border=\"1\" class=\"dataframe\">\n",
              "  <thead>\n",
              "    <tr style=\"text-align: right;\">\n",
              "      <th></th>\n",
              "      <th>date</th>\n",
              "      <th>suspects</th>\n",
              "      <th>refuses</th>\n",
              "      <th>cases</th>\n",
              "      <th>deaths</th>\n",
              "    </tr>\n",
              "  </thead>\n",
              "  <tbody>\n",
              "    <tr>\n",
              "      <th>7</th>\n",
              "      <td>2020-02-06</td>\n",
              "      <td>3</td>\n",
              "      <td>10</td>\n",
              "      <td>0</td>\n",
              "      <td>0</td>\n",
              "    </tr>\n",
              "    <tr>\n",
              "      <th>8</th>\n",
              "      <td>2020-02-06</td>\n",
              "      <td>3</td>\n",
              "      <td>10</td>\n",
              "      <td>0</td>\n",
              "      <td>0</td>\n",
              "    </tr>\n",
              "    <tr>\n",
              "      <th>27</th>\n",
              "      <td>2020-02-25</td>\n",
              "      <td>4</td>\n",
              "      <td>26</td>\n",
              "      <td>0</td>\n",
              "      <td>0</td>\n",
              "    </tr>\n",
              "    <tr>\n",
              "      <th>28</th>\n",
              "      <td>2020-02-25</td>\n",
              "      <td>4</td>\n",
              "      <td>26</td>\n",
              "      <td>0</td>\n",
              "      <td>0</td>\n",
              "    </tr>\n",
              "  </tbody>\n",
              "</table>\n",
              "</div>"
            ],
            "text/plain": [
              "         date  suspects  refuses  cases  deaths\n",
              "7  2020-02-06         3       10      0       0\n",
              "8  2020-02-06         3       10      0       0\n",
              "27 2020-02-25         4       26      0       0\n",
              "28 2020-02-25         4       26      0       0"
            ]
          },
          "metadata": {
            "tags": []
          },
          "execution_count": 4
        }
      ]
    },
    {
      "cell_type": "markdown",
      "metadata": {
        "id": "JVh-ZaHBAqkh",
        "colab_type": "text"
      },
      "source": [
        "Os dados possuem duplicatas de data, porém os registros são iguais nas 4 variáveis então podemos descartar e setar a data como índice."
      ]
    },
    {
      "cell_type": "code",
      "metadata": {
        "id": "C-5_XiBvA1To",
        "colab_type": "code",
        "colab": {}
      },
      "source": [
        "saopaulo = (pd.read_csv('../data/csv/by_uf/SP.csv', parse_dates=['date'])\n",
        "              .drop_duplicates('date')\n",
        "              .set_index('date'))"
      ],
      "execution_count": 0,
      "outputs": []
    },
    {
      "cell_type": "code",
      "metadata": {
        "id": "biJ-0KvNBNMt",
        "colab_type": "code",
        "colab": {
          "base_uri": "https://localhost:8080/",
          "height": 461
        },
        "outputId": "63dceb62-0915-4cb3-bd23-8a3a8b9a8aec"
      },
      "source": [
        "(saopaulo\n",
        " .query('cases >= 50')\n",
        " .plot(style='o--', figsize=(12,6), fontsize=20, \n",
        "       logy=True, title='COVID-19 No Estado de São Paulo'));"
      ],
      "execution_count": 6,
      "outputs": [
        {
          "output_type": "display_data",
          "data": {
            "image/png": "[encoded data removed]",
            "text/plain": [
              "<Figure size 864x432 with 1 Axes>"
            ]
          },
          "metadata": {
            "tags": []
          }
        }
      ]
    },
    {
      "cell_type": "markdown",
      "metadata": {
        "id": "_Zb-ObavE-Yr",
        "colab_type": "text"
      },
      "source": [
        "# Feature-based parameter estimation for SIR\n"
      ]
    },
    {
      "cell_type": "markdown",
      "metadata": {
        "id": "IwP-A2GUFNr4",
        "colab_type": "text"
      },
      "source": [
        "## Estimating R0 in an invasion"
      ]
    },
    {
      "cell_type": "code",
      "metadata": {
        "id": "JDY4qRvkMVhq",
        "colab_type": "code",
        "colab": {}
      },
      "source": [
        "# will only consider days after this number of cases\n",
        "cases_th = 50"
      ],
      "execution_count": 0,
      "outputs": []
    },
    {
      "cell_type": "code",
      "metadata": {
        "id": "AxV66nHEE_Yj",
        "colab_type": "code",
        "colab": {
          "base_uri": "https://localhost:8080/",
          "height": 165
        },
        "outputId": "ea34053d-61f5-4e85-b166-78d5bf7148c8"
      },
      "source": [
        "X, y = (saopaulo\n",
        "        .query(f'cases >= {cases_th}')\n",
        "        ['cases']\n",
        "        .pipe(lambda s: (sm.add_constant(s.index.day.values),\n",
        "                         np.log(s).values)))\n",
        "\n",
        "X, y"
      ],
      "execution_count": 8,
      "outputs": [
        {
          "output_type": "execute_result",
          "data": {
            "text/plain": [
              "(array([[ 1., 13.],\n",
              "        [ 1., 14.],\n",
              "        [ 1., 15.],\n",
              "        [ 1., 16.],\n",
              "        [ 1., 17.],\n",
              "        [ 1., 18.]]),\n",
              " array([4.02535169, 4.17438727, 4.91265489, 5.02388052, 5.09986643,\n",
              "        5.48063892]))"
            ]
          },
          "metadata": {
            "tags": []
          },
          "execution_count": 8
        }
      ]
    },
    {
      "cell_type": "code",
      "metadata": {
        "id": "TJlaD2cuGxxg",
        "colab_type": "code",
        "colab": {
          "base_uri": "https://localhost:8080/",
          "height": 463
        },
        "outputId": "fac25d94-cbe6-4fc7-8669-bf32abfef340"
      },
      "source": [
        "model = sm.OLS(y, X)\n",
        "results = model.fit()\n",
        "results.summary()"
      ],
      "execution_count": 9,
      "outputs": [
        {
          "output_type": "stream",
          "text": [
            "/usr/local/lib/python3.6/dist-packages/statsmodels/stats/stattools.py:71: ValueWarning: omni_normtest is not valid with less than 8 observations; 6 samples were given.\n",
            "  \"samples were given.\" % int(n), ValueWarning)\n"
          ],
          "name": "stderr"
        },
        {
          "output_type": "execute_result",
          "data": {
            "text/html": [
              "<table class=\"simpletable\">\n",
              "<caption>OLS Regression Results</caption>\n",
              "<tr>\n",
              "  <th>Dep. Variable:</th>            <td>y</td>        <th>  R-squared:         </th> <td>   0.919</td>\n",
              "</tr>\n",
              "<tr>\n",
              "  <th>Model:</th>                   <td>OLS</td>       <th>  Adj. R-squared:    </th> <td>   0.898</td>\n",
              "</tr>\n",
              "<tr>\n",
              "  <th>Method:</th>             <td>Least Squares</td>  <th>  F-statistic:       </th> <td>   45.24</td>\n",
              "</tr>\n",
              "<tr>\n",
              "  <th>Date:</th>             <td>Thu, 19 Mar 2020</td> <th>  Prob (F-statistic):</th>  <td>0.00254</td>\n",
              "</tr>\n",
              "<tr>\n",
              "  <th>Time:</th>                 <td>15:49:59</td>     <th>  Log-Likelihood:    </th> <td>  2.9713</td>\n",
              "</tr>\n",
              "<tr>\n",
              "  <th>No. Observations:</th>      <td>     6</td>      <th>  AIC:               </th> <td>  -1.943</td>\n",
              "</tr>\n",
              "<tr>\n",
              "  <th>Df Residuals:</th>          <td>     4</td>      <th>  BIC:               </th> <td>  -2.359</td>\n",
              "</tr>\n",
              "<tr>\n",
              "  <th>Df Model:</th>              <td>     1</td>      <th>                     </th>     <td> </td>   \n",
              "</tr>\n",
              "<tr>\n",
              "  <th>Covariance Type:</th>      <td>nonrobust</td>    <th>                     </th>     <td> </td>   \n",
              "</tr>\n",
              "</table>\n",
              "<table class=\"simpletable\">\n",
              "<tr>\n",
              "    <td></td>       <th>coef</th>     <th>std err</th>      <th>t</th>      <th>P>|t|</th>  <th>[0.025</th>    <th>0.975]</th>  \n",
              "</tr>\n",
              "<tr>\n",
              "  <th>const</th> <td>    0.2849</td> <td>    0.673</td> <td>    0.423</td> <td> 0.694</td> <td>   -1.584</td> <td>    2.154</td>\n",
              "</tr>\n",
              "<tr>\n",
              "  <th>x1</th>    <td>    0.2904</td> <td>    0.043</td> <td>    6.726</td> <td> 0.003</td> <td>    0.171</td> <td>    0.410</td>\n",
              "</tr>\n",
              "</table>\n",
              "<table class=\"simpletable\">\n",
              "<tr>\n",
              "  <th>Omnibus:</th>       <td>   nan</td> <th>  Durbin-Watson:     </th> <td>   2.351</td>\n",
              "</tr>\n",
              "<tr>\n",
              "  <th>Prob(Omnibus):</th> <td>   nan</td> <th>  Jarque-Bera (JB):  </th> <td>   0.594</td>\n",
              "</tr>\n",
              "<tr>\n",
              "  <th>Skew:</th>          <td> 0.702</td> <th>  Prob(JB):          </th> <td>   0.743</td>\n",
              "</tr>\n",
              "<tr>\n",
              "  <th>Kurtosis:</th>      <td> 2.365</td> <th>  Cond. No.          </th> <td>    143.</td>\n",
              "</tr>\n",
              "</table><br/><br/>Warnings:<br/>[1] Standard Errors assume that the covariance matrix of the errors is correctly specified."
            ],
            "text/plain": [
              "<class 'statsmodels.iolib.summary.Summary'>\n",
              "\"\"\"\n",
              "                            OLS Regression Results                            \n",
              "==============================================================================\n",
              "Dep. Variable:                      y   R-squared:                       0.919\n",
              "Model:                            OLS   Adj. R-squared:                  0.898\n",
              "Method:                 Least Squares   F-statistic:                     45.24\n",
              "Date:                Thu, 19 Mar 2020   Prob (F-statistic):            0.00254\n",
              "Time:                        15:49:59   Log-Likelihood:                 2.9713\n",
              "No. Observations:                   6   AIC:                            -1.943\n",
              "Df Residuals:                       4   BIC:                            -2.359\n",
              "Df Model:                           1                                         \n",
              "Covariance Type:            nonrobust                                         \n",
              "==============================================================================\n",
              "                 coef    std err          t      P>|t|      [0.025      0.975]\n",
              "------------------------------------------------------------------------------\n",
              "const          0.2849      0.673      0.423      0.694      -1.584       2.154\n",
              "x1             0.2904      0.043      6.726      0.003       0.171       0.410\n",
              "==============================================================================\n",
              "Omnibus:                          nan   Durbin-Watson:                   2.351\n",
              "Prob(Omnibus):                    nan   Jarque-Bera (JB):                0.594\n",
              "Skew:                           0.702   Prob(JB):                        0.743\n",
              "Kurtosis:                       2.365   Cond. No.                         143.\n",
              "==============================================================================\n",
              "\n",
              "Warnings:\n",
              "[1] Standard Errors assume that the covariance matrix of the errors is correctly specified.\n",
              "\"\"\""
            ]
          },
          "metadata": {
            "tags": []
          },
          "execution_count": 9
        }
      ]
    },
    {
      "cell_type": "code",
      "metadata": {
        "id": "dNM9esfxHZJY",
        "colab_type": "code",
        "colab": {
          "base_uri": "https://localhost:8080/",
          "height": 72
        },
        "outputId": "30273ebc-dbe5-45cf-cf4b-b44b5c910008"
      },
      "source": [
        "gamma_inv = 12\n",
        "R0_pred_int = results.conf_int()[1]/(1/gamma_inv) + 1\n",
        "R0_pred_avg = results.params[1]/(1/gamma_inv) + 1\n",
        "\n",
        "print('THIS IS A WORK IN PROGRESS; ESTE RESULTADO É PRELIMINAR')\n",
        "print(f'Considering days after the number of infected cases reached {cases_th},'\n",
        "      f' R0 is estimated to be {R0_pred_avg:.03} with CI95% '\n",
        "      f'({R0_pred_int[0]:.03}, {R0_pred_int[1]:.03}) for the state of '\n",
        "       'São Paulo.\\nThis assumes an early'\n",
        "      f' stage outbreak SIR model and time to recovery (1/γ) of {gamma_inv} days.')"
      ],
      "execution_count": 10,
      "outputs": [
        {
          "output_type": "stream",
          "text": [
            "THIS IS A WORK IN PROGRESS; ESTE RESULTADO É PRELIMINAR\n",
            "Considering days after the number of infected cases reached 50, R0 is estimated to be 4.48 with CI95% (3.05, 5.92) for the state of São Paulo.\n",
            "This assumes an early stage outbreak SIR model and time to recovery (1/γ) of 12 days.\n"
          ],
          "name": "stdout"
        }
      ]
    }
  ]
}