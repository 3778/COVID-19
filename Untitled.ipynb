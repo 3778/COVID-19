{
 "cells": [
  {
   "cell_type": "code",
   "execution_count": 1,
   "metadata": {},
   "outputs": [],
   "source": [
    "import pandas as pd"
   ]
  },
  {
   "cell_type": "code",
   "execution_count": 42,
   "metadata": {},
   "outputs": [],
   "source": [
    "def load_dump_covid_19_data():\n",
    "\n",
    "    COVID_19_BY_CITY_URL='https://raw.githubusercontent.com/wcota/covid19br/master/cases-brazil-cities-time.csv'\n",
    "\n",
    "    by_city=(pd.read_csv(covid_by_city_url)\n",
    "               .query('country == \"Brazil\"')\n",
    "               .drop(columns=['country'])\n",
    "               .pipe(lambda df: df[df.state!='TOTAL'])\n",
    "               .assign(city=lambda df: df.city.apply(lambda x: x.split('/')[0]))\n",
    "               .rename(columns={'totalCases': 'cases',\n",
    "                                'newCases': 'new_cases',\n",
    "                                'state': 'uf'})\n",
    "               .sort_values(by=['city', 'date'])\n",
    "            )\n",
    "\n",
    "    by_uf = (by_city\n",
    "             .groupby(['date', 'uf'])\n",
    "             ['new_cases', 'cases']\n",
    "             .sum()\n",
    "             .reset_index())\n",
    "    \n",
    "    dfs = [by_uf, by_city]\n",
    "    filenames = ['by_uf', 'by_city']\n",
    "    for df, filename in zip(dfs, filenames):\n",
    "        output_path = f'data/csv/covid_19/{filename}/{filename}.csv'\n",
    "        df.to_csv(output_path, index=False)\n",
    "        print(f'{filename} data exported to {output_path}')"
   ]
  },
  {
   "cell_type": "code",
   "execution_count": null,
   "metadata": {},
   "outputs": [],
   "source": []
  },
  {
   "cell_type": "code",
   "execution_count": null,
   "metadata": {},
   "outputs": [],
   "source": []
  },
  {
   "cell_type": "code",
   "execution_count": null,
   "metadata": {},
   "outputs": [],
   "source": []
  },
  {
   "cell_type": "code",
   "execution_count": 44,
   "metadata": {},
   "outputs": [],
   "source": [
    "IBGE_POPULATION_EXCEL_URL = 'ftp://ftp.ibge.gov.br/Estimativas_de_Populacao/Estimativas_2019/estimativa_dou_2019.xls'"
   ]
  },
  {
   "cell_type": "code",
   "execution_count": 46,
   "metadata": {},
   "outputs": [],
   "source": [
    "    def _load_uf_codes():\n",
    "        print('Scraping UF codes')\n",
    "        return (\n",
    "            pd.read_html(\n",
    "                'https://www.oobj.com.br/bc/article/'\n",
    "                'quais-os-c%C3%B3digos-de-cada-uf-no-brasil-465.html'\n",
    "            )\n",
    "            [0]\n",
    "            .replace('\\s\\(\\*\\)', '', regex=True)\n",
    "            [['Unidade da Federação', 'UF']]\n",
    "        )"
   ]
  },
  {
   "cell_type": "code",
   "execution_count": 47,
   "metadata": {},
   "outputs": [],
   "source": [
    "    def _load_city_pop():\n",
    "        print('Scraping city population')\n",
    "        return (\n",
    "            pd.read_excel(IBGE_POPULATION_EXCEL_URL, sheet_name='Municípios', header=1)\n",
    "            .rename(columns={\n",
    "                'COD. UF': 'UF_code',\n",
    "                'COD. MUNIC': 'city_code',\n",
    "                'NOME DO MUNICÍPIO': 'city_name',\n",
    "                'POPULAÇÃO ESTIMADA': 'estimated_population'\n",
    "            })\n",
    "            .dropna(how='any')\n",
    "            .assign(estimated_population=lambda df: df.estimated_population\n",
    "                                                    .replace('\\.', '', regex=True)\n",
    "                                                    .replace('\\-', ' ', regex=True)\n",
    "                                                    .replace('\\(\\d+\\)', '', regex=True)\n",
    "                                                    .astype('int')\n",
    "            )\n",
    "            .assign(  UF_code=lambda df: df.UF_code.astype(int))\n",
    "            .assign(city_code=lambda df: df.city_code.astype(int))\n",
    "            [['UF', 'city_name', 'estimated_population']]\n",
    "        )"
   ]
  },
  {
   "cell_type": "code",
   "execution_count": 48,
   "metadata": {},
   "outputs": [],
   "source": [
    "    def _load_uf_pop():\n",
    "        print('Scraping UF population')\n",
    "        uf_codes = _load_uf_codes()\n",
    "        return (\n",
    "            pd.read_excel(IBGE_POPULATION_EXCEL_URL, header=1)\n",
    "            .drop(columns=['Unnamed: 1'])\n",
    "            .rename(columns={'POPULAÇÃO ESTIMADA': 'estimated_population'})\n",
    "            .dropna(how='any')\n",
    "            .assign(estimated_population=lambda df: df.estimated_population\n",
    "                                                    .replace('\\.', '', regex=True)\n",
    "                                                    .replace('\\-', ' ', regex=True)\n",
    "                                                    .replace('\\(\\d\\)', '', regex=True)\n",
    "                                                    .astype('int')\n",
    "            )\n",
    "            .pipe(lambda df: pd.merge(df,\n",
    "                                    uf_codes,\n",
    "                                    left_on='BRASIL E UNIDADES DA FEDERAÇÃO',\n",
    "                                    right_on='Unidade da Federação',\n",
    "                                    how='inner'))\n",
    "            [['UF', 'estimated_population']]\n",
    "        )"
   ]
  },
  {
   "cell_type": "code",
   "execution_count": null,
   "metadata": {},
   "outputs": [],
   "source": []
  }
 ],
 "metadata": {
  "kernelspec": {
   "display_name": "hsl-commandcenter-ds",
   "language": "python",
   "name": "hsl-commandcenter-ds"
  },
  "language_info": {
   "codemirror_mode": {
    "name": "ipython",
    "version": 3
   },
   "file_extension": ".py",
   "mimetype": "text/x-python",
   "name": "python",
   "nbconvert_exporter": "python",
   "pygments_lexer": "ipython3",
   "version": "3.6.7"
  }
 },
 "nbformat": 4,
 "nbformat_minor": 2
}
