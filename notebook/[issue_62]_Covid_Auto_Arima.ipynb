{
  "nbformat": 4,
  "nbformat_minor": 0,
  "metadata": {
    "colab": {
      "name": "[issue_62]_Covid_Auto_Arima.ipynb",
      "provenance": [],
      "collapsed_sections": [],
      "authorship_tag": "ABX9TyNQlSFY0p1SNE8eCirXpgRF",
      "include_colab_link": true
    },
    "kernelspec": {
      "name": "python3",
      "display_name": "Python 3"
    }
  },
  "cells": [
    {
      "cell_type": "markdown",
      "metadata": {
        "id": "view-in-github",
        "colab_type": "text"
      },
      "source": [
        "<a href=\"https://colab.research.google.com/github/3778/COVID-19/blob/master/notebook/%5Bissue_62%5D_Covid_Auto_Arima.ipynb\" target=\"_parent\"><img src=\"https://colab.research.google.com/assets/colab-badge.svg\" alt=\"Open In Colab\"/></a>"
      ]
    },
    {
      "cell_type": "code",
      "metadata": {
        "id": "BeGF1rPpMOVx",
        "colab_type": "code",
        "colab": {
          "base_uri": "https://localhost:8080/",
          "height": 136
        },
        "outputId": "745c2762-f282-4d5b-96ef-f0b9bd8d0059"
      },
      "source": [
        "!git clone https://github.com/3778/COVID-19.git"
      ],
      "execution_count": 1,
      "outputs": [
        {
          "output_type": "stream",
          "text": [
            "Cloning into 'COVID-19'...\n",
            "remote: Enumerating objects: 137, done.\u001b[K\n",
            "remote: Counting objects:   0% (1/137)\u001b[K\rremote: Counting objects:   1% (2/137)\u001b[K\rremote: Counting objects:   2% (3/137)\u001b[K\rremote: Counting objects:   3% (5/137)\u001b[K\rremote: Counting objects:   4% (6/137)\u001b[K\rremote: Counting objects:   5% (7/137)\u001b[K\rremote: Counting objects:   6% (9/137)\u001b[K\rremote: Counting objects:   7% (10/137)\u001b[K\rremote: Counting objects:   8% (11/137)\u001b[K\rremote: Counting objects:   9% (13/137)\u001b[K\rremote: Counting objects:  10% (14/137)\u001b[K\rremote: Counting objects:  11% (16/137)\u001b[K\rremote: Counting objects:  12% (17/137)\u001b[K\rremote: Counting objects:  13% (18/137)\u001b[K\rremote: Counting objects:  14% (20/137)\u001b[K\rremote: Counting objects:  15% (21/137)\u001b[K\rremote: Counting objects:  16% (22/137)\u001b[K\rremote: Counting objects:  17% (24/137)\u001b[K\rremote: Counting objects:  18% (25/137)\u001b[K\rremote: Counting objects:  19% (27/137)\u001b[K\rremote: Counting objects:  20% (28/137)\u001b[K\rremote: Counting objects:  21% (29/137)\u001b[K\rremote: Counting objects:  22% (31/137)\u001b[K\rremote: Counting objects:  23% (32/137)\u001b[K\rremote: Counting objects:  24% (33/137)\u001b[K\rremote: Counting objects:  25% (35/137)\u001b[K\rremote: Counting objects:  26% (36/137)\u001b[K\rremote: Counting objects:  27% (37/137)\u001b[K\rremote: Counting objects:  28% (39/137)\u001b[K\rremote: Counting objects:  29% (40/137)\u001b[K\rremote: Counting objects:  30% (42/137)\u001b[K\rremote: Counting objects:  31% (43/137)\u001b[K\rremote: Counting objects:  32% (44/137)\u001b[K\rremote: Counting objects:  33% (46/137)\u001b[K\rremote: Counting objects:  34% (47/137)\u001b[K\rremote: Counting objects:  35% (48/137)\u001b[K\rremote: Counting objects:  36% (50/137)\u001b[K\rremote: Counting objects:  37% (51/137)\u001b[K\rremote: Counting objects:  38% (53/137)\u001b[K\rremote: Counting objects:  39% (54/137)\u001b[K\rremote: Counting objects:  40% (55/137)\u001b[K\rremote: Counting objects:  41% (57/137)\u001b[K\rremote: Counting objects:  42% (58/137)\u001b[K\rremote: Counting objects:  43% (59/137)\u001b[K\rremote: Counting objects:  44% (61/137)\u001b[K\rremote: Counting objects:  45% (62/137)\u001b[K\rremote: Counting objects:  46% (64/137)\u001b[K\rremote: Counting objects:  47% (65/137)\u001b[K\rremote: Counting objects:  48% (66/137)\u001b[K\rremote: Counting objects:  49% (68/137)\u001b[K\rremote: Counting objects:  50% (69/137)\u001b[K\rremote: Counting objects:  51% (70/137)\u001b[K\rremote: Counting objects:  52% (72/137)\u001b[K\rremote: Counting objects:  53% (73/137)\u001b[K\rremote: Counting objects:  54% (74/137)\u001b[K\rremote: Counting objects:  55% (76/137)\u001b[K\rremote: Counting objects:  56% (77/137)\u001b[K\rremote: Counting objects:  57% (79/137)\u001b[K\rremote: Counting objects:  58% (80/137)\u001b[K\rremote: Counting objects:  59% (81/137)\u001b[K\rremote: Counting objects:  60% (83/137)\u001b[K\rremote: Counting objects:  61% (84/137)\u001b[K\rremote: Counting objects:  62% (85/137)\u001b[K\rremote: Counting objects:  63% (87/137)\u001b[K\rremote: Counting objects:  64% (88/137)\u001b[K\rremote: Counting objects:  65% (90/137)\u001b[K\rremote: Counting objects:  66% (91/137)\u001b[K\rremote: Counting objects:  67% (92/137)\u001b[K\rremote: Counting objects:  68% (94/137)\u001b[K\rremote: Counting objects:  69% (95/137)\u001b[K\rremote: Counting objects:  70% (96/137)\u001b[K\rremote: Counting objects:  71% (98/137)\u001b[K\rremote: Counting objects:  72% (99/137)\u001b[K\rremote: Counting objects:  73% (101/137)\u001b[K\rremote: Counting objects:  74% (102/137)\u001b[K\rremote: Counting objects:  75% (103/137)\u001b[K\rremote: Counting objects:  76% (105/137)\u001b[K\rremote: Counting objects:  77% (106/137)\u001b[K\rremote: Counting objects:  78% (107/137)\u001b[K\rremote: Counting objects:  79% (109/137)\u001b[K\rremote: Counting objects:  80% (110/137)\u001b[K\rremote: Counting objects:  81% (111/137)\u001b[K\rremote: Counting objects:  82% (113/137)\u001b[K\rremote: Counting objects:  83% (114/137)\u001b[K\rremote: Counting objects:  84% (116/137)\u001b[K\rremote: Counting objects:  85% (117/137)\u001b[K\rremote: Counting objects:  86% (118/137)\u001b[K\rremote: Counting objects:  87% (120/137)\u001b[K\rremote: Counting objects:  88% (121/137)\u001b[K\rremote: Counting objects:  89% (122/137)\u001b[K\rremote: Counting objects:  90% (124/137)\u001b[K\rremote: Counting objects:  91% (125/137)\u001b[K\rremote: Counting objects:  92% (127/137)\u001b[K\rremote: Counting objects:  93% (128/137)\u001b[K\rremote: Counting objects:  94% (129/137)\u001b[K\rremote: Counting objects:  95% (131/137)\u001b[K\rremote: Counting objects:  96% (132/137)\u001b[K\rremote: Counting objects:  97% (133/137)\u001b[K\rremote: Counting objects:  98% (135/137)\u001b[K\rremote: Counting objects:  99% (136/137)\u001b[K\rremote: Counting objects: 100% (137/137)\u001b[K\rremote: Counting objects: 100% (137/137), done.\u001b[K\n",
            "remote: Compressing objects: 100% (91/91), done.\u001b[K\n",
            "remote: Total 648 (delta 67), reused 94 (delta 37), pack-reused 511\u001b[K\n",
            "Receiving objects: 100% (648/648), 1.11 MiB | 18.31 MiB/s, done.\n",
            "Resolving deltas: 100% (312/312), done.\n"
          ],
          "name": "stdout"
        }
      ]
    },
    {
      "cell_type": "code",
      "metadata": {
        "id": "vHFgDmU_eKfF",
        "colab_type": "code",
        "outputId": "30f54102-94b2-46f6-d915-ad424aaa0497",
        "colab": {
          "base_uri": "https://localhost:8080/",
          "height": 326
        }
      },
      "source": [
        "!pip install pmdarima"
      ],
      "execution_count": 2,
      "outputs": [
        {
          "output_type": "stream",
          "text": [
            "Collecting pmdarima\n",
            "\u001b[?25l  Downloading https://files.pythonhosted.org/packages/83/aa/feb76414043592c3149059ab772a51de03fbf7544a8e19237f229a50a949/pmdarima-1.5.3-cp36-cp36m-manylinux1_x86_64.whl (1.5MB)\n",
            "\r\u001b[K     |▎                               | 10kB 19.1MB/s eta 0:00:01\r\u001b[K     |▌                               | 20kB 1.8MB/s eta 0:00:01\r\u001b[K     |▊                               | 30kB 2.6MB/s eta 0:00:01\r\u001b[K     |█                               | 40kB 1.7MB/s eta 0:00:01\r\u001b[K     |█▏                              | 51kB 2.1MB/s eta 0:00:01\r\u001b[K     |█▍                              | 61kB 2.5MB/s eta 0:00:01\r\u001b[K     |█▋                              | 71kB 2.9MB/s eta 0:00:01\r\u001b[K     |█▉                              | 81kB 3.3MB/s eta 0:00:01\r\u001b[K     |██                              | 92kB 3.7MB/s eta 0:00:01\r\u001b[K     |██▎                             | 102kB 2.8MB/s eta 0:00:01\r\u001b[K     |██▌                             | 112kB 2.8MB/s eta 0:00:01\r\u001b[K     |██▊                             | 122kB 2.8MB/s eta 0:00:01\r\u001b[K     |███                             | 133kB 2.8MB/s eta 0:00:01\r\u001b[K     |███▏                            | 143kB 2.8MB/s eta 0:00:01\r\u001b[K     |███▍                            | 153kB 2.8MB/s eta 0:00:01\r\u001b[K     |███▋                            | 163kB 2.8MB/s eta 0:00:01\r\u001b[K     |███▉                            | 174kB 2.8MB/s eta 0:00:01\r\u001b[K     |████                            | 184kB 2.8MB/s eta 0:00:01\r\u001b[K     |████▎                           | 194kB 2.8MB/s eta 0:00:01\r\u001b[K     |████▌                           | 204kB 2.8MB/s eta 0:00:01\r\u001b[K     |████▊                           | 215kB 2.8MB/s eta 0:00:01\r\u001b[K     |█████                           | 225kB 2.8MB/s eta 0:00:01\r\u001b[K     |█████▏                          | 235kB 2.8MB/s eta 0:00:01\r\u001b[K     |█████▍                          | 245kB 2.8MB/s eta 0:00:01\r\u001b[K     |█████▋                          | 256kB 2.8MB/s eta 0:00:01\r\u001b[K     |█████▉                          | 266kB 2.8MB/s eta 0:00:01\r\u001b[K     |██████                          | 276kB 2.8MB/s eta 0:00:01\r\u001b[K     |██████▎                         | 286kB 2.8MB/s eta 0:00:01\r\u001b[K     |██████▌                         | 296kB 2.8MB/s eta 0:00:01\r\u001b[K     |██████▊                         | 307kB 2.8MB/s eta 0:00:01\r\u001b[K     |███████                         | 317kB 2.8MB/s eta 0:00:01\r\u001b[K     |███████▏                        | 327kB 2.8MB/s eta 0:00:01\r\u001b[K     |███████▍                        | 337kB 2.8MB/s eta 0:00:01\r\u001b[K     |███████▋                        | 348kB 2.8MB/s eta 0:00:01\r\u001b[K     |███████▉                        | 358kB 2.8MB/s eta 0:00:01\r\u001b[K     |████████                        | 368kB 2.8MB/s eta 0:00:01\r\u001b[K     |████████▍                       | 378kB 2.8MB/s eta 0:00:01\r\u001b[K     |████████▋                       | 389kB 2.8MB/s eta 0:00:01\r\u001b[K     |████████▉                       | 399kB 2.8MB/s eta 0:00:01\r\u001b[K     |█████████                       | 409kB 2.8MB/s eta 0:00:01\r\u001b[K     |█████████▎                      | 419kB 2.8MB/s eta 0:00:01\r\u001b[K     |█████████▌                      | 430kB 2.8MB/s eta 0:00:01\r\u001b[K     |█████████▊                      | 440kB 2.8MB/s eta 0:00:01\r\u001b[K     |██████████                      | 450kB 2.8MB/s eta 0:00:01\r\u001b[K     |██████████▏                     | 460kB 2.8MB/s eta 0:00:01\r\u001b[K     |██████████▍                     | 471kB 2.8MB/s eta 0:00:01\r\u001b[K     |██████████▋                     | 481kB 2.8MB/s eta 0:00:01\r\u001b[K     |██████████▉                     | 491kB 2.8MB/s eta 0:00:01\r\u001b[K     |███████████                     | 501kB 2.8MB/s eta 0:00:01\r\u001b[K     |███████████▎                    | 512kB 2.8MB/s eta 0:00:01\r\u001b[K     |███████████▌                    | 522kB 2.8MB/s eta 0:00:01\r\u001b[K     |███████████▊                    | 532kB 2.8MB/s eta 0:00:01\r\u001b[K     |████████████                    | 542kB 2.8MB/s eta 0:00:01\r\u001b[K     |████████████▏                   | 552kB 2.8MB/s eta 0:00:01\r\u001b[K     |████████████▍                   | 563kB 2.8MB/s eta 0:00:01\r\u001b[K     |████████████▋                   | 573kB 2.8MB/s eta 0:00:01\r\u001b[K     |████████████▉                   | 583kB 2.8MB/s eta 0:00:01\r\u001b[K     |█████████████                   | 593kB 2.8MB/s eta 0:00:01\r\u001b[K     |█████████████▎                  | 604kB 2.8MB/s eta 0:00:01\r\u001b[K     |█████████████▌                  | 614kB 2.8MB/s eta 0:00:01\r\u001b[K     |█████████████▊                  | 624kB 2.8MB/s eta 0:00:01\r\u001b[K     |██████████████                  | 634kB 2.8MB/s eta 0:00:01\r\u001b[K     |██████████████▏                 | 645kB 2.8MB/s eta 0:00:01\r\u001b[K     |██████████████▍                 | 655kB 2.8MB/s eta 0:00:01\r\u001b[K     |██████████████▋                 | 665kB 2.8MB/s eta 0:00:01\r\u001b[K     |██████████████▉                 | 675kB 2.8MB/s eta 0:00:01\r\u001b[K     |███████████████                 | 686kB 2.8MB/s eta 0:00:01\r\u001b[K     |███████████████▎                | 696kB 2.8MB/s eta 0:00:01\r\u001b[K     |███████████████▌                | 706kB 2.8MB/s eta 0:00:01\r\u001b[K     |███████████████▊                | 716kB 2.8MB/s eta 0:00:01\r\u001b[K     |████████████████                | 727kB 2.8MB/s eta 0:00:01\r\u001b[K     |████████████████▏               | 737kB 2.8MB/s eta 0:00:01\r\u001b[K     |████████████████▍               | 747kB 2.8MB/s eta 0:00:01\r\u001b[K     |████████████████▊               | 757kB 2.8MB/s eta 0:00:01\r\u001b[K     |█████████████████               | 768kB 2.8MB/s eta 0:00:01\r\u001b[K     |█████████████████▏              | 778kB 2.8MB/s eta 0:00:01\r\u001b[K     |█████████████████▍              | 788kB 2.8MB/s eta 0:00:01\r\u001b[K     |█████████████████▋              | 798kB 2.8MB/s eta 0:00:01\r\u001b[K     |█████████████████▉              | 808kB 2.8MB/s eta 0:00:01\r\u001b[K     |██████████████████              | 819kB 2.8MB/s eta 0:00:01\r\u001b[K     |██████████████████▎             | 829kB 2.8MB/s eta 0:00:01\r\u001b[K     |██████████████████▌             | 839kB 2.8MB/s eta 0:00:01\r\u001b[K     |██████████████████▊             | 849kB 2.8MB/s eta 0:00:01\r\u001b[K     |███████████████████             | 860kB 2.8MB/s eta 0:00:01\r\u001b[K     |███████████████████▏            | 870kB 2.8MB/s eta 0:00:01\r\u001b[K     |███████████████████▍            | 880kB 2.8MB/s eta 0:00:01\r\u001b[K     |███████████████████▋            | 890kB 2.8MB/s eta 0:00:01\r\u001b[K     |███████████████████▉            | 901kB 2.8MB/s eta 0:00:01\r\u001b[K     |████████████████████            | 911kB 2.8MB/s eta 0:00:01\r\u001b[K     |████████████████████▎           | 921kB 2.8MB/s eta 0:00:01\r\u001b[K     |████████████████████▌           | 931kB 2.8MB/s eta 0:00:01\r\u001b[K     |████████████████████▊           | 942kB 2.8MB/s eta 0:00:01\r\u001b[K     |█████████████████████           | 952kB 2.8MB/s eta 0:00:01\r\u001b[K     |█████████████████████▏          | 962kB 2.8MB/s eta 0:00:01\r\u001b[K     |█████████████████████▍          | 972kB 2.8MB/s eta 0:00:01\r\u001b[K     |█████████████████████▋          | 983kB 2.8MB/s eta 0:00:01\r\u001b[K     |█████████████████████▉          | 993kB 2.8MB/s eta 0:00:01\r\u001b[K     |██████████████████████          | 1.0MB 2.8MB/s eta 0:00:01\r\u001b[K     |██████████████████████▎         | 1.0MB 2.8MB/s eta 0:00:01\r\u001b[K     |██████████████████████▌         | 1.0MB 2.8MB/s eta 0:00:01\r\u001b[K     |██████████████████████▊         | 1.0MB 2.8MB/s eta 0:00:01\r\u001b[K     |███████████████████████         | 1.0MB 2.8MB/s eta 0:00:01\r\u001b[K     |███████████████████████▏        | 1.1MB 2.8MB/s eta 0:00:01\r\u001b[K     |███████████████████████▍        | 1.1MB 2.8MB/s eta 0:00:01\r\u001b[K     |███████████████████████▋        | 1.1MB 2.8MB/s eta 0:00:01\r\u001b[K     |███████████████████████▉        | 1.1MB 2.8MB/s eta 0:00:01\r\u001b[K     |████████████████████████        | 1.1MB 2.8MB/s eta 0:00:01\r\u001b[K     |████████████████████████▎       | 1.1MB 2.8MB/s eta 0:00:01\r\u001b[K     |████████████████████████▌       | 1.1MB 2.8MB/s eta 0:00:01\r\u001b[K     |████████████████████████▉       | 1.1MB 2.8MB/s eta 0:00:01\r\u001b[K     |█████████████████████████       | 1.1MB 2.8MB/s eta 0:00:01\r\u001b[K     |█████████████████████████▎      | 1.1MB 2.8MB/s eta 0:00:01\r\u001b[K     |█████████████████████████▌      | 1.2MB 2.8MB/s eta 0:00:01\r\u001b[K     |█████████████████████████▊      | 1.2MB 2.8MB/s eta 0:00:01\r\u001b[K     |██████████████████████████      | 1.2MB 2.8MB/s eta 0:00:01\r\u001b[K     |██████████████████████████▏     | 1.2MB 2.8MB/s eta 0:00:01\r\u001b[K     |██████████████████████████▍     | 1.2MB 2.8MB/s eta 0:00:01\r\u001b[K     |██████████████████████████▋     | 1.2MB 2.8MB/s eta 0:00:01\r\u001b[K     |██████████████████████████▉     | 1.2MB 2.8MB/s eta 0:00:01\r\u001b[K     |███████████████████████████     | 1.2MB 2.8MB/s eta 0:00:01\r\u001b[K     |███████████████████████████▎    | 1.2MB 2.8MB/s eta 0:00:01\r\u001b[K     |███████████████████████████▌    | 1.2MB 2.8MB/s eta 0:00:01\r\u001b[K     |███████████████████████████▊    | 1.3MB 2.8MB/s eta 0:00:01\r\u001b[K     |████████████████████████████    | 1.3MB 2.8MB/s eta 0:00:01\r\u001b[K     |████████████████████████████▏   | 1.3MB 2.8MB/s eta 0:00:01\r\u001b[K     |████████████████████████████▍   | 1.3MB 2.8MB/s eta 0:00:01\r\u001b[K     |████████████████████████████▋   | 1.3MB 2.8MB/s eta 0:00:01\r\u001b[K     |████████████████████████████▉   | 1.3MB 2.8MB/s eta 0:00:01\r\u001b[K     |█████████████████████████████   | 1.3MB 2.8MB/s eta 0:00:01\r\u001b[K     |█████████████████████████████▎  | 1.3MB 2.8MB/s eta 0:00:01\r\u001b[K     |█████████████████████████████▌  | 1.3MB 2.8MB/s eta 0:00:01\r\u001b[K     |█████████████████████████████▊  | 1.4MB 2.8MB/s eta 0:00:01\r\u001b[K     |██████████████████████████████  | 1.4MB 2.8MB/s eta 0:00:01\r\u001b[K     |██████████████████████████████▏ | 1.4MB 2.8MB/s eta 0:00:01\r\u001b[K     |██████████████████████████████▍ | 1.4MB 2.8MB/s eta 0:00:01\r\u001b[K     |██████████████████████████████▋ | 1.4MB 2.8MB/s eta 0:00:01\r\u001b[K     |██████████████████████████████▉ | 1.4MB 2.8MB/s eta 0:00:01\r\u001b[K     |███████████████████████████████ | 1.4MB 2.8MB/s eta 0:00:01\r\u001b[K     |███████████████████████████████▎| 1.4MB 2.8MB/s eta 0:00:01\r\u001b[K     |███████████████████████████████▌| 1.4MB 2.8MB/s eta 0:00:01\r\u001b[K     |███████████████████████████████▊| 1.4MB 2.8MB/s eta 0:00:01\r\u001b[K     |████████████████████████████████| 1.5MB 2.8MB/s eta 0:00:01\r\u001b[K     |████████████████████████████████| 1.5MB 2.8MB/s \n",
            "\u001b[?25hRequirement already satisfied: scipy>=1.3.2 in /usr/local/lib/python3.6/dist-packages (from pmdarima) (1.4.1)\n",
            "Requirement already satisfied: numpy>=1.17.3 in /usr/local/lib/python3.6/dist-packages (from pmdarima) (1.18.2)\n",
            "Requirement already satisfied: pandas>=0.19 in /usr/local/lib/python3.6/dist-packages (from pmdarima) (0.25.3)\n",
            "Requirement already satisfied: statsmodels>=0.10.2 in /usr/local/lib/python3.6/dist-packages (from pmdarima) (0.10.2)\n",
            "Requirement already satisfied: urllib3 in /usr/local/lib/python3.6/dist-packages (from pmdarima) (1.24.3)\n",
            "Requirement already satisfied: Cython>=0.29 in /usr/local/lib/python3.6/dist-packages (from pmdarima) (0.29.15)\n",
            "Requirement already satisfied: joblib>=0.11 in /usr/local/lib/python3.6/dist-packages (from pmdarima) (0.14.1)\n",
            "Requirement already satisfied: scikit-learn>=0.22 in /usr/local/lib/python3.6/dist-packages (from pmdarima) (0.22.2.post1)\n",
            "Requirement already satisfied: python-dateutil>=2.6.1 in /usr/local/lib/python3.6/dist-packages (from pandas>=0.19->pmdarima) (2.8.1)\n",
            "Requirement already satisfied: pytz>=2017.2 in /usr/local/lib/python3.6/dist-packages (from pandas>=0.19->pmdarima) (2018.9)\n",
            "Requirement already satisfied: patsy>=0.4.0 in /usr/local/lib/python3.6/dist-packages (from statsmodels>=0.10.2->pmdarima) (0.5.1)\n",
            "Requirement already satisfied: six>=1.5 in /usr/local/lib/python3.6/dist-packages (from python-dateutil>=2.6.1->pandas>=0.19->pmdarima) (1.12.0)\n",
            "Installing collected packages: pmdarima\n",
            "Successfully installed pmdarima-1.5.3\n"
          ],
          "name": "stdout"
        }
      ]
    },
    {
      "cell_type": "code",
      "metadata": {
        "id": "C2GLZRTJTEbL",
        "colab_type": "code",
        "colab": {}
      },
      "source": [
        "import sys\n",
        "sys.path.insert(0, 'COVID-19/data')\n",
        "import os\n",
        "os.chdir('COVID-19')"
      ],
      "execution_count": 0,
      "outputs": []
    },
    {
      "cell_type": "code",
      "metadata": {
        "id": "BUSjC1lUd7eb",
        "colab_type": "code",
        "colab": {}
      },
      "source": [
        "import pandas as pd\n",
        "from pmdarima import auto_arima"
      ],
      "execution_count": 0,
      "outputs": []
    },
    {
      "cell_type": "code",
      "metadata": {
        "id": "vwvNQ4q-MZMZ",
        "colab_type": "code",
        "colab": {}
      },
      "source": [
        "from data.collectors import load_dump_covid_19_data, load_jh_data"
      ],
      "execution_count": 0,
      "outputs": []
    },
    {
      "cell_type": "code",
      "metadata": {
        "id": "U2dfJ1FUWEMw",
        "colab_type": "code",
        "colab": {
          "base_uri": "https://localhost:8080/",
          "height": 51
        },
        "outputId": "950831ee-5a07-4acf-f77f-894e70b12935"
      },
      "source": [
        "load_dump_covid_19_data()\n",
        "jhu = load_jh_data()"
      ],
      "execution_count": 6,
      "outputs": [
        {
          "output_type": "stream",
          "text": [
            "by_uf data exported to data/csv/covid_19/by_uf/by_uf.csv\n",
            "by_city data exported to data/csv/covid_19/by_city/by_city.csv\n"
          ],
          "name": "stdout"
        }
      ]
    },
    {
      "cell_type": "markdown",
      "metadata": {
        "id": "X9cUNJNWeaxu",
        "colab_type": "text"
      },
      "source": [
        "# Simular como teria sido acompanhar o histórico que já temos fazendo previsões para os próximos `forecast_n_days`\n",
        "(ex: Simulação do que teria acontecido se eu tivesse tentado prever de 7 em 7 dias os próximos 7 dias)\n"
      ]
    },
    {
      "cell_type": "code",
      "metadata": {
        "id": "FAY4ejBSU7A4",
        "colab_type": "code",
        "colab": {}
      },
      "source": [
        "def simulate(data, forecast_n_days=7):\n",
        "    lag = pd.DateOffset(days=forecast_n_days)\n",
        "    one_day = pd.DateOffset(days=1)\n",
        "    dmin, dmax = data.index.min(), data.index.max()\n",
        "    date_range = (\n",
        "        pd\n",
        "        .date_range(\n",
        "            start=dmin + lag,\n",
        "            end=dmax-lag,\n",
        "            freq=f'{forecast_n_days}D'\n",
        "        )\n",
        "    )\n",
        "    forecasts = []\n",
        "    for date in date_range:\n",
        "        train = data.loc[:date]\n",
        "        test = data.loc[date+one_day:date+lag]\n",
        "        model = (\n",
        "            auto_arima(\n",
        "                train,\n",
        "                start_p=1,\n",
        "                d=None,\n",
        "                start_q=1,\n",
        "                max_p=15,\n",
        "                max_d=15,\n",
        "                max_q=15,\n",
        "                seasonal=False,\n",
        "                suppress_warnings=True,\n",
        "                maxiter=500,\n",
        "                stepwise=False\n",
        "            )\n",
        "        )\n",
        "        forecast = model.predict(test.shape[0])\n",
        "        forecasts.append(\n",
        "            pd.Series(forecast, index=test.index)\n",
        "        )\n",
        "    return (\n",
        "        pd\n",
        "        .concat(\n",
        "            [\n",
        "                data,\n",
        "                (\n",
        "                    pd\n",
        "                    .concat(forecasts)\n",
        "                    .rename('forecast')\n",
        "                )\n",
        "            ],\n",
        "            axis=1\n",
        "        )\n",
        "    )"
      ],
      "execution_count": 0,
      "outputs": []
    },
    {
      "cell_type": "markdown",
      "metadata": {
        "id": "S3acLa-neWvx",
        "colab_type": "text"
      },
      "source": [
        "# Brasil"
      ]
    },
    {
      "cell_type": "code",
      "metadata": {
        "id": "yc3xf1tyNmjy",
        "colab_type": "code",
        "colab": {}
      },
      "source": [
        "data = (\n",
        "    pd\n",
        "    .read_csv(\n",
        "        'data/csv/covid_19/by_uf/by_uf.csv'\n",
        "    )\n",
        "    .query('date >= \"2020-03-01\"')\n",
        "    .groupby('date')\n",
        "    ['cases']\n",
        "    .sum()\n",
        ")\n",
        "data.index = pd.to_datetime(data.index)"
      ],
      "execution_count": 0,
      "outputs": []
    },
    {
      "cell_type": "code",
      "metadata": {
        "id": "hccLkGL_Nmeu",
        "colab_type": "code",
        "colab": {
          "base_uri": "https://localhost:8080/",
          "height": 343
        },
        "outputId": "bd9bacd3-4906-46b3-d481-cc9729653cec"
      },
      "source": [
        "sim = simulate(data, forecast_n_days=3)"
      ],
      "execution_count": 9,
      "outputs": [
        {
          "output_type": "stream",
          "text": [
            "/usr/local/lib/python3.6/dist-packages/pmdarima/arima/_auto_solvers.py:386: ModelFitWarning: Unable to fit ARIMA for (1, 0, 2)x(0, 0, 0, 0); data is likely non-stationary. (if you do not want to see these warnings, run with error_action=\"ignore\")\n",
            "  ModelFitWarning)\n",
            "/usr/local/lib/python3.6/dist-packages/pmdarima/arima/_auto_solvers.py:386: ModelFitWarning: Unable to fit ARIMA for (2, 0, 2)x(0, 0, 0, 0); data is likely non-stationary. (if you do not want to see these warnings, run with error_action=\"ignore\")\n",
            "  ModelFitWarning)\n",
            "/usr/local/lib/python3.6/dist-packages/pmdarima/arima/_auto_solvers.py:386: ModelFitWarning: Unable to fit ARIMA for (1, 0, 3)x(0, 0, 0, 0); data is likely non-stationary. (if you do not want to see these warnings, run with error_action=\"ignore\")\n",
            "  ModelFitWarning)\n",
            "/usr/local/lib/python3.6/dist-packages/pmdarima/arima/_auto_solvers.py:386: ModelFitWarning: Unable to fit ARIMA for (2, 0, 3)x(0, 0, 0, 0); data is likely non-stationary. (if you do not want to see these warnings, run with error_action=\"ignore\")\n",
            "  ModelFitWarning)\n",
            "/usr/local/lib/python3.6/dist-packages/pmdarima/arima/_auto_solvers.py:386: ModelFitWarning: Unable to fit ARIMA for (0, 1, 4)x(0, 0, 0, 0); data is likely non-stationary. (if you do not want to see these warnings, run with error_action=\"ignore\")\n",
            "  ModelFitWarning)\n",
            "/usr/local/lib/python3.6/dist-packages/pmdarima/arima/_auto_solvers.py:386: ModelFitWarning: Unable to fit ARIMA for (1, 1, 3)x(0, 0, 0, 0); data is likely non-stationary. (if you do not want to see these warnings, run with error_action=\"ignore\")\n",
            "  ModelFitWarning)\n",
            "/usr/local/lib/python3.6/dist-packages/pmdarima/arima/_auto_solvers.py:386: ModelFitWarning: Unable to fit ARIMA for (1, 1, 4)x(0, 0, 0, 0); data is likely non-stationary. (if you do not want to see these warnings, run with error_action=\"ignore\")\n",
            "  ModelFitWarning)\n",
            "/usr/local/lib/python3.6/dist-packages/pmdarima/arima/_auto_solvers.py:386: ModelFitWarning: Unable to fit ARIMA for (2, 1, 3)x(0, 0, 0, 0); data is likely non-stationary. (if you do not want to see these warnings, run with error_action=\"ignore\")\n",
            "  ModelFitWarning)\n",
            "/usr/local/lib/python3.6/dist-packages/pmdarima/arima/_auto_solvers.py:386: ModelFitWarning: Unable to fit ARIMA for (3, 1, 2)x(0, 0, 0, 0); data is likely non-stationary. (if you do not want to see these warnings, run with error_action=\"ignore\")\n",
            "  ModelFitWarning)\n"
          ],
          "name": "stderr"
        }
      ]
    },
    {
      "cell_type": "code",
      "metadata": {
        "id": "cvO3QDFjeKml",
        "colab_type": "code",
        "colab": {
          "base_uri": "https://localhost:8080/",
          "height": 429
        },
        "outputId": "5007af80-f2e1-4cf7-bdf7-492ab792263b"
      },
      "source": [
        "sim.plot.bar(figsize=(18, 5));"
      ],
      "execution_count": 10,
      "outputs": [
        {
          "output_type": "display_data",
          "data": {
            "image/png": "[encoded data removed]",
            "text/plain": [
              "<Figure size 1296x360 with 1 Axes>"
            ]
          },
          "metadata": {
            "tags": []
          }
        }
      ]
    },
    {
      "cell_type": "markdown",
      "metadata": {
        "id": "CxmJ-aLGeMnk",
        "colab_type": "text"
      },
      "source": [
        "# Mundo"
      ]
    },
    {
      "cell_type": "code",
      "metadata": {
        "id": "WaRZmfujeNlt",
        "colab_type": "code",
        "colab": {}
      },
      "source": [
        "ser = 'China'\n",
        "data = (\n",
        "    jhu\n",
        "    .set_index('country')\n",
        "    .loc[ser]\n",
        "    .reset_index(drop=True)\n",
        "    .set_index('date')\n",
        "    ['cases']\n",
        ")\n",
        "data.index = pd.to_datetime(data.index)"
      ],
      "execution_count": 0,
      "outputs": []
    },
    {
      "cell_type": "code",
      "metadata": {
        "id": "4m1W_f__eS-W",
        "colab_type": "code",
        "outputId": "09fa7dd9-70af-47a4-ada3-ef382d351a9c",
        "colab": {
          "base_uri": "https://localhost:8080/",
          "height": 241
        }
      },
      "source": [
        "sim = simulate(data, forecast_n_days=7)"
      ],
      "execution_count": 12,
      "outputs": [
        {
          "output_type": "stream",
          "text": [
            "/usr/local/lib/python3.6/dist-packages/pmdarima/arima/_auto_solvers.py:386: ModelFitWarning: Unable to fit ARIMA for (1, 0, 2)x(0, 0, 0, 0); data is likely non-stationary. (if you do not want to see these warnings, run with error_action=\"ignore\")\n",
            "  ModelFitWarning)\n",
            "/usr/local/lib/python3.6/dist-packages/pmdarima/arima/_auto_solvers.py:386: ModelFitWarning: Unable to fit ARIMA for (2, 0, 0)x(0, 0, 0, 0); data is likely non-stationary. (if you do not want to see these warnings, run with error_action=\"ignore\")\n",
            "  ModelFitWarning)\n",
            "/usr/local/lib/python3.6/dist-packages/pmdarima/arima/_auto_solvers.py:386: ModelFitWarning: Unable to fit ARIMA for (2, 0, 2)x(0, 0, 0, 0); data is likely non-stationary. (if you do not want to see these warnings, run with error_action=\"ignore\")\n",
            "  ModelFitWarning)\n",
            "/usr/local/lib/python3.6/dist-packages/pmdarima/arima/_auto_solvers.py:386: ModelFitWarning: Unable to fit ARIMA for (0, 2, 5)x(0, 0, 0, 0); data is likely non-stationary. (if you do not want to see these warnings, run with error_action=\"ignore\")\n",
            "  ModelFitWarning)\n",
            "/usr/local/lib/python3.6/dist-packages/pmdarima/arima/_auto_solvers.py:386: ModelFitWarning: Unable to fit ARIMA for (1, 2, 4)x(0, 0, 0, 0); data is likely non-stationary. (if you do not want to see these warnings, run with error_action=\"ignore\")\n",
            "  ModelFitWarning)\n",
            "/usr/local/lib/python3.6/dist-packages/pmdarima/arima/_auto_solvers.py:386: ModelFitWarning: Unable to fit ARIMA for (0, 1, 5)x(0, 0, 0, 0); data is likely non-stationary. (if you do not want to see these warnings, run with error_action=\"ignore\")\n",
            "  ModelFitWarning)\n"
          ],
          "name": "stderr"
        }
      ]
    },
    {
      "cell_type": "code",
      "metadata": {
        "id": "0cbVppEIZor_",
        "colab_type": "code",
        "colab": {
          "base_uri": "https://localhost:8080/",
          "height": 429
        },
        "outputId": "25eb029c-fc0a-41b5-fdcc-4c2b33325abd"
      },
      "source": [
        "sim.plot.bar(figsize=(18, 5));"
      ],
      "execution_count": 13,
      "outputs": [
        {
          "output_type": "display_data",
          "data": {
            "image/png": "[encoded data removed]",
            "text/plain": [
              "<Figure size 1296x360 with 1 Axes>"
            ]
          },
          "metadata": {
            "tags": []
          }
        }
      ]
    }
  ]
}