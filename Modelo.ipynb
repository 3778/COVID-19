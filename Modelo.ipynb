{
 "cells": [
  {
   "cell_type": "code",
   "execution_count": 1,
   "metadata": {
    "colab": {
     "base_uri": "https://localhost:8080/",
     "height": 173
    },
    "colab_type": "code",
    "id": "CsadiAY6DKpc",
    "outputId": "bed3612c-0aed-482e-c1c8-3b9d0a16da0b"
   },
   "outputs": [
    {
     "ename": "ModuleNotFoundError",
     "evalue": "No module named 'numpy'",
     "output_type": "error",
     "traceback": [
      "\u001b[0;31m---------------------------------------------------------------------------\u001b[0m",
      "\u001b[0;31mModuleNotFoundError\u001b[0m                       Traceback (most recent call last)",
      "\u001b[0;32m<ipython-input-1-4ffa37671a39>\u001b[0m in \u001b[0;36m<module>\u001b[0;34m\u001b[0m\n\u001b[0;32m----> 1\u001b[0;31m \u001b[0;32mimport\u001b[0m \u001b[0mnumpy\u001b[0m \u001b[0;32mas\u001b[0m \u001b[0mnp\u001b[0m\u001b[0;34m\u001b[0m\u001b[0;34m\u001b[0m\u001b[0m\n\u001b[0m\u001b[1;32m      2\u001b[0m \u001b[0;32mimport\u001b[0m \u001b[0mpandas\u001b[0m \u001b[0;32mas\u001b[0m \u001b[0mpd\u001b[0m\u001b[0;34m\u001b[0m\u001b[0;34m\u001b[0m\u001b[0m\n\u001b[1;32m      3\u001b[0m \u001b[0;32mimport\u001b[0m \u001b[0mjson\u001b[0m\u001b[0;34m\u001b[0m\u001b[0;34m\u001b[0m\u001b[0m\n\u001b[1;32m      4\u001b[0m \u001b[0;32mimport\u001b[0m \u001b[0mrequests\u001b[0m\u001b[0;34m\u001b[0m\u001b[0;34m\u001b[0m\u001b[0m\n\u001b[1;32m      5\u001b[0m \u001b[0;32mimport\u001b[0m \u001b[0mmatplotlib\u001b[0m\u001b[0;34m.\u001b[0m\u001b[0mpyplot\u001b[0m \u001b[0;32mas\u001b[0m \u001b[0mplt\u001b[0m\u001b[0;34m\u001b[0m\u001b[0;34m\u001b[0m\u001b[0m\n",
      "\u001b[0;31mModuleNotFoundError\u001b[0m: No module named 'numpy'"
     ]
    }
   ],
   "source": [
    "import numpy as np\n",
    "import pandas as pd\n",
    "import json\n",
    "import requests\n",
    "import matplotlib.pyplot as plt\n",
    "from scipy.optimize import curve_fit, least_squares\n",
    "from scipy.integrate import odeint\n",
    "from datetime import date"
   ]
  },
  {
   "cell_type": "code",
   "execution_count": null,
   "metadata": {
    "colab": {},
    "colab_type": "code",
    "id": "BtCWL_W_AH9Q"
   },
   "outputs": [],
   "source": [
    "df_names = ['confirmed_global', 'deaths_global', 'recovered_global'] \n",
    "df_list = [pd.DataFrame() for df in df_names]\n",
    "df_dict = dict(zip(df_names, df_list))\n",
    "\n",
    "url_part = 'https://raw.githubusercontent.com/CSSEGISandData/COVID-19/master/csse_covid_19_data/csse_covid_19_time_series/time_series_covid19_'\n",
    "\n",
    "for key, value in df_dict.items():\n",
    "    value = pd.read_csv(url_part+key+'.csv', parse_dates=[0])\n",
    "    \n",
    "    value.rename(columns={'Province/State': 'Province_State', 'Country/Region': 'Country_Region'}, inplace=True)\n",
    "    \n",
    "    dim_col = value.columns[0:4]\n",
    "    date_col = value.columns[4:]\n",
    "    \n",
    "    value = value.melt(id_vars = dim_col, value_vars = date_col, var_name = 'Date', value_name = key)\n",
    "    \n",
    "    value['Date'] = pd.to_datetime(value['Date'])\n",
    "    \n",
    "    df_dict[key] = value\n",
    "\n",
    "join_on_col = ['Province_State','Country_Region','Lat','Long','Date']\n",
    "df_COVID = df_dict['confirmed_global'].merge(df_dict['deaths_global'], on=join_on_col, how='outer').merge(df_dict['recovered_global'], on=join_on_col, how='outer')\n",
    "df_COVID.rename(columns = {'confirmed_global':'Confirmed', 'deaths_global':'Deaths', 'recovered_global':'Recovered'}, inplace = True)\n",
    "\n",
    "df_COVID = df_COVID.set_index(['Country_Region', 'Province_State', 'Date'])"
   ]
  },
  {
   "cell_type": "code",
   "execution_count": null,
   "metadata": {
    "colab": {},
    "colab_type": "code",
    "id": "1xTKJ0aoE1QU"
   },
   "outputs": [],
   "source": [
    "data = df_COVID.loc['India']\n",
    "data = data.reset_index().groupby('Date').sum()"
   ]
  },
  {
   "cell_type": "code",
   "execution_count": null,
   "metadata": {
    "colab": {
     "base_uri": "https://localhost:8080/",
     "height": 455
    },
    "colab_type": "code",
    "id": "fBnFTqs5FV2-",
    "outputId": "71ca4717-08f5-4685-9bba-d69b1a2d5fff"
   },
   "outputs": [],
   "source": [
    "data = data[data['Confirmed'] > 100]"
   ]
  },
  {
   "cell_type": "code",
   "execution_count": null,
   "metadata": {},
   "outputs": [],
   "source": [
    "data"
   ]
  },
  {
   "cell_type": "code",
   "execution_count": null,
   "metadata": {
    "colab": {},
    "colab_type": "code",
    "id": "LnXgdmB7DKqo"
   },
   "outputs": [],
   "source": [
    "data = data.reset_index()\n",
    "first_date = data['Date'].min()\n",
    "data['Dias'] = list(map(lambda x : (x-first_date).days, data['Date']))"
   ]
  },
  {
   "cell_type": "code",
   "execution_count": null,
   "metadata": {
    "colab": {},
    "colab_type": "code",
    "id": "RyxGqkj5DKrC"
   },
   "outputs": [],
   "source": [
    "class Chunker(object):\n",
    "    \"\"\"Split `iterable` on evenly sized chunks.\n",
    "\n",
    "    Leftovers are remembered and yielded at the next call.\n",
    "    \"\"\"\n",
    "    def __init__(self, chunksize):\n",
    "        assert chunksize > 0\n",
    "        self.chunksize = chunksize        \n",
    "        self.chunk = []\n",
    "\n",
    "    def __call__(self, iterable):\n",
    "        \"\"\"Yield items from `iterable` `self.chunksize` at the time.\"\"\"\n",
    "        assert len(self.chunk) < self.chunksize\n",
    "        for item in iterable:\n",
    "            self.chunk.append(item)\n",
    "            if len(self.chunk) == self.chunksize:\n",
    "                # yield collected full chunk\n",
    "                yield self.chunk\n",
    "                self.chunk = []"
   ]
  },
  {
   "cell_type": "code",
   "execution_count": null,
   "metadata": {
    "colab": {
     "base_uri": "https://localhost:8080/",
     "height": 334
    },
    "colab_type": "code",
    "id": "Gs7s-3nVDKrK",
    "outputId": "946dbbf9-d624-4d73-fb73-bafc154973ca"
   },
   "outputs": [],
   "source": [
    "rdata = data['Recovered'].to_numpy()\n",
    "ddata = data['Deaths'].to_numpy()\n",
    "idata = (data['Confirmed'].to_numpy() - ddata - rdata)\n",
    "ydata = np.hstack([idata])\n",
    "xdata = data['Dias']\n",
    "\n",
    "N  = 1353000000 #11460000\n",
    "D0 = 0\n",
    "R0 = 0\n",
    "I0 = data.iloc[0]['Confirmed'] - D0 - R0\n",
    "E0 = 0\n",
    "S0 = N-I0-E0-D0-R0\n",
    "te = 5.2\n",
    "\n",
    "def _ode_func(y, t, b, d, r):\n",
    "    S, E, I, R, D = y\n",
    "    # differential equations\n",
    "    dSdt  = -b*I*S/N\n",
    "    dEdt  = b*I*S/N - E/te\n",
    "    dIdt  = E/te - (r+d)*I\n",
    "    dRdt  = r*I + d*I\n",
    "    return dSdt, dEdt, dIdt, dRdt, dDdt\n",
    "\n",
    "def compute_single(t, b, d, r):\n",
    "    global y0\n",
    "    values  = odeint(_ode_func, y0, t, args=(b, d, r))\n",
    "    return values.T\n",
    "\n",
    "def fit_all(t, y):\n",
    "    global y0\n",
    "    def ajust_many(params):\n",
    "        b = params[0]\n",
    "        d = params[1]\n",
    "        r = params[2]\n",
    "        values  = odeint(_ode_func, y0, t, args=(b, d, r))\n",
    "        S, E, I, R, D = values.T\n",
    "        EIR = E + I + R\n",
    "        return np.hstack([I, R, D]) - y\n",
    "    params0 = (1, 1, 1)\n",
    "    res = least_squares(ajust_many, params0, bounds=(0, np.inf))\n",
    "    return res.x\n",
    "\n",
    "x = np.linspace(0, 365)\n",
    "y0 = S0, E0, I0, R0, D0\n",
    "k_fit = fit_all(xdata, ydata)\n",
    "S, E, I, R, D = compute_single(x, *k_fit)\n",
    "\n",
    "plt.figure(figsize=(6,8))\n",
    "plt.subplot(3,1,1)\n",
    "plt.plot(xdata, idata, 'ro', label='confirmed')\n",
    "plt.plot(x, I, 'b-', label='predicted')\n",
    "plt.legend(loc='best')\n",
    "plt.subplot(3,1,2)\n",
    "plt.plot(xdata, ddata, 'ro', label='deaths')\n",
    "plt.plot(x, D, 'b-', label='predicted')\n",
    "plt.legend(loc='best')\n",
    "plt.subplot(3,1,3)\n",
    "plt.plot(xdata, rdata, 'ro', label='recovered')\n",
    "plt.plot(x, R, 'b-', label='predicted')\n",
    "plt.legend(loc='best')\n"
   ]
  },
  {
   "cell_type": "code",
   "execution_count": null,
   "metadata": {
    "colab": {
     "base_uri": "https://localhost:8080/",
     "height": 535
    },
    "colab_type": "code",
    "id": "SZA97qcQDKrT",
    "outputId": "07cc2db6-a71a-468f-9654-807b33cf980b"
   },
   "outputs": [],
   "source": [
    "def ajust_beta_piecewise(xdata, idata, rdata, ddata, extrapolation=0, chunk_size=7, overlap=7):\n",
    "    global y0\n",
    "    b = []\n",
    "    results = []\n",
    "    y0 = [S0, E0, I0, R0, D0]\n",
    "    xdata = np.array(xdata)\n",
    "    for i in range(0, len(xdata), chunk_size):\n",
    "        n = i+chunk_size+overlap\n",
    "        if n > len(xdata):\n",
    "            break\n",
    "            y = np.hstack([idata[i:], rdata[i:], ddata[i:]])\n",
    "            x = xdata[i:]\n",
    "        else:\n",
    "            y = np.hstack([idata[i:n], rdata[i:n], ddata[i:n]])\n",
    "            x = xdata[i:n]\n",
    "        x = x-x[0]\n",
    "        k_fit = fit_all(x, y)\n",
    "        b.append(k_fit)\n",
    "        res = compute_single(x, *k_fit)\n",
    "        if n > len(xdata):\n",
    "            results.append(res)\n",
    "            y0 = res[:,-1]\n",
    "        else:\n",
    "            results.append(res[:,:chunk_size])\n",
    "            y0 = res[:,chunk_size]\n",
    "    if extrapolation > 0:\n",
    "        results.append(compute_single(range(1, extrapolation), *k_fit))\n",
    "    return np.array(b), np.block(results)\n",
    "\n",
    "plt.figure(figsize=(6,8))\n",
    "betas, fit = ajust_beta_piecewise(xdata, idata, rdata, ddata, extrapolation=30)\n",
    "y = fit[2,:]\n",
    "x = range(len(y))\n",
    "plt.subplot(3,1,1)\n",
    "plt.plot(xdata, idata, 'ro', label='confirmed')\n",
    "plt.plot(x, y, 'b-', label='predicted')\n",
    "plt.legend(loc='best')\n",
    "plt.subplot(3,1,2)\n",
    "y = fit[-1,:]\n",
    "x = range(len(y))\n",
    "plt.plot(xdata, ddata, 'ro', label='deaths')\n",
    "plt.plot(x, y, 'b-', label='predicted')\n",
    "plt.legend(loc='best')\n",
    "plt.subplot(3,1,3)\n",
    "y = fit[-2,:]\n",
    "x = range(len(y))\n",
    "plt.plot(xdata, rdata, 'ro', label='recovered')\n",
    "plt.plot(x, y, 'b-', label='predicted')\n",
    "plt.legend(loc='best')"
   ]
  },
  {
   "cell_type": "code",
   "execution_count": null,
   "metadata": {},
   "outputs": [],
   "source": [
    "betas"
   ]
  },
  {
   "cell_type": "code",
   "execution_count": null,
   "metadata": {
    "colab": {},
    "colab_type": "code",
    "id": "xlC1-CONDKre",
    "outputId": "24d6a997-68ea-450d-f289-6e95d45e0479"
   },
   "outputs": [],
   "source": [
    "x = range(0, 7*len(betas), 7)\n",
    "plt.plot(x, betas[:,0], '-', label='b')\n",
    "plt.plot(x, betas[:,1], '-', label='d')\n",
    "plt.plot(x, betas[:,2], '-', label='r')\n",
    "plt.legend(loc='best')"
   ]
  },
  {
   "cell_type": "code",
   "execution_count": null,
   "metadata": {
    "colab": {},
    "colab_type": "code",
    "id": "PHp5RReFDKrr"
   },
   "outputs": [],
   "source": []
  },
  {
   "cell_type": "code",
   "execution_count": null,
   "metadata": {
    "colab": {},
    "colab_type": "code",
    "id": "pKSGmQAxDKrv"
   },
   "outputs": [],
   "source": []
  }
 ],
 "metadata": {
  "colab": {
   "collapsed_sections": [],
   "name": "Picadinho com Molho.ipynb",
   "provenance": []
  },
  "kernelspec": {
   "display_name": "Python 3",
   "language": "python",
   "name": "python3"
  },
  "language_info": {
   "codemirror_mode": {
    "name": "ipython",
    "version": 3
   },
   "file_extension": ".py",
   "mimetype": "text/x-python",
   "name": "python",
   "nbconvert_exporter": "python",
   "pygments_lexer": "ipython3",
   "version": "3.7.3"
  }
 },
 "nbformat": 4,
 "nbformat_minor": 1
}
